{
 "cells": [
  {
   "cell_type": "code",
   "execution_count": 1,
   "id": "8239f9ac",
   "metadata": {
    "_cell_guid": "55935d31-2694-45da-a34a-94261649439c",
    "_uuid": "e97fa043-02da-4543-b1ac-513ffc44dec2",
    "collapsed": false,
    "execution": {
     "iopub.execute_input": "2023-08-20T17:15:53.959209Z",
     "iopub.status.busy": "2023-08-20T17:15:53.958789Z",
     "iopub.status.idle": "2023-08-20T17:16:04.525642Z",
     "shell.execute_reply": "2023-08-20T17:16:04.524657Z"
    },
    "jupyter": {
     "outputs_hidden": false
    },
    "papermill": {
     "duration": 10.576965,
     "end_time": "2023-08-20T17:16:04.528065",
     "exception": false,
     "start_time": "2023-08-20T17:15:53.951100",
     "status": "completed"
    },
    "tags": []
   },
   "outputs": [
    {
     "name": "stderr",
     "output_type": "stream",
     "text": [
      "/opt/conda/lib/python3.10/site-packages/scipy/__init__.py:146: UserWarning: A NumPy version >=1.16.5 and <1.23.0 is required for this version of SciPy (detected version 1.23.5\n",
      "  warnings.warn(f\"A NumPy version >={np_minversion} and <{np_maxversion}\"\n"
     ]
    }
   ],
   "source": [
    "import fastai\n",
    "from fastai.vision.all import *\n",
    "from tqdm import tqdm\n",
    "from glob import glob"
   ]
  },
  {
   "cell_type": "code",
   "execution_count": 2,
   "id": "4fb8cc31",
   "metadata": {
    "_cell_guid": "738a2e57-62b1-4cd1-970c-e9505a16a5b5",
    "_uuid": "08422815-d5d5-4f12-93bf-58e031e70dda",
    "collapsed": false,
    "execution": {
     "iopub.execute_input": "2023-08-20T17:16:04.541183Z",
     "iopub.status.busy": "2023-08-20T17:16:04.540887Z",
     "iopub.status.idle": "2023-08-20T17:16:04.556949Z",
     "shell.execute_reply": "2023-08-20T17:16:04.556065Z"
    },
    "jupyter": {
     "outputs_hidden": false
    },
    "papermill": {
     "duration": 0.024901,
     "end_time": "2023-08-20T17:16:04.559114",
     "exception": false,
     "start_time": "2023-08-20T17:16:04.534213",
     "status": "completed"
    },
    "tags": []
   },
   "outputs": [],
   "source": [
    "SEED = 85\n",
    "def seed_everything(seed):\n",
    "    random.seed(seed)\n",
    "    os.environ[\"PYTHONHASHSEED\"] = str(seed)\n",
    "    np.random.seed(seed)\n",
    "    torch.manual_seed(seed)\n",
    "    torch.cuda.manual_seed(seed)\n",
    "    torch.backends.cudnn.deterministic = True\n",
    "    torch.backends.cudnn.benchmark = False\n",
    "\n",
    "seed_everything(SEED)"
   ]
  },
  {
   "cell_type": "code",
   "execution_count": 3,
   "id": "395b7518",
   "metadata": {
    "_cell_guid": "4e4d9570-14a8-46bd-a77b-4c59057d578e",
    "_uuid": "a146646c-ca7b-4441-869a-7407da42f4b0",
    "collapsed": false,
    "execution": {
     "iopub.execute_input": "2023-08-20T17:16:04.571901Z",
     "iopub.status.busy": "2023-08-20T17:16:04.571198Z",
     "iopub.status.idle": "2023-08-20T17:16:05.969456Z",
     "shell.execute_reply": "2023-08-20T17:16:05.968142Z"
    },
    "jupyter": {
     "outputs_hidden": false
    },
    "papermill": {
     "duration": 1.406826,
     "end_time": "2023-08-20T17:16:05.971555",
     "exception": false,
     "start_time": "2023-08-20T17:16:04.564729",
     "status": "completed"
    },
    "tags": []
   },
   "outputs": [
    {
     "name": "stderr",
     "output_type": "stream",
     "text": [
      "100%|██████████| 14/14 [00:00<00:00, 14.00it/s]\n"
     ]
    }
   ],
   "source": [
    "labels_train_val = pd.read_csv('/kaggle/input/data/train_val_list.txt')\n",
    "labels_train_val.columns = ['Image_Index']\n",
    "labels_test = pd.read_csv('/kaggle/input/data/test_list.txt')\n",
    "labels_test.columns = ['Image_Index']\n",
    "disease_labels = ['Atelectasis', 'Consolidation', 'Infiltration', 'Pneumothorax', 'Edema', 'Emphysema', 'Fibrosis', 'Effusion', 'Pneumonia', 'Pleural_Thickening',\n",
    "'Cardiomegaly', 'Nodule', 'Mass', 'Hernia']\n",
    "# NIH Dataset Labels CSV File \n",
    "labels_df = pd.read_csv('/kaggle/input/data/Data_Entry_2017.csv')\n",
    "labels_df.columns = ['Image_Index', 'Finding_Labels', 'Follow_Up_#', 'Patient_ID',\n",
    "                  'Patient_Age', 'Patient_Gender', 'View_Position',\n",
    "                  'Original_Image_Width', 'Original_Image_Height',\n",
    "                  'Original_Image_Pixel_Spacing_X',\n",
    "                  'Original_Image_Pixel_Spacing_Y', 'dfd']\n",
    "# One hot encoding\n",
    "for diseases in tqdm(disease_labels): \n",
    "    labels_df[diseases] = labels_df['Finding_Labels'].map(lambda result: 1 if diseases in result else 0)\n",
    "\n",
    "# labels_df.to_csv('/kaggle/working/newData.csv')\n",
    "# labels_df=labels_df[labels_df.Finding_Labels != 'No Finding']\n",
    "# #labels_df.head(3)"
   ]
  },
  {
   "cell_type": "code",
   "execution_count": 4,
   "id": "c694c24f",
   "metadata": {
    "_cell_guid": "e00c2fca-fb51-4231-a493-2b62f43b83eb",
    "_uuid": "5a632ffd-8096-481a-bc78-4192c1663625",
    "collapsed": false,
    "execution": {
     "iopub.execute_input": "2023-08-20T17:16:05.985740Z",
     "iopub.status.busy": "2023-08-20T17:16:05.985460Z",
     "iopub.status.idle": "2023-08-20T17:16:10.205192Z",
     "shell.execute_reply": "2023-08-20T17:16:10.204274Z"
    },
    "jupyter": {
     "outputs_hidden": false
    },
    "papermill": {
     "duration": 4.229134,
     "end_time": "2023-08-20T17:16:10.207253",
     "exception": false,
     "start_time": "2023-08-20T17:16:05.978119",
     "status": "completed"
    },
    "tags": []
   },
   "outputs": [
    {
     "data": {
      "text/html": [
       "<div>\n",
       "<style scoped>\n",
       "    .dataframe tbody tr th:only-of-type {\n",
       "        vertical-align: middle;\n",
       "    }\n",
       "\n",
       "    .dataframe tbody tr th {\n",
       "        vertical-align: top;\n",
       "    }\n",
       "\n",
       "    .dataframe thead th {\n",
       "        text-align: right;\n",
       "    }\n",
       "</style>\n",
       "<table border=\"1\" class=\"dataframe\">\n",
       "  <thead>\n",
       "    <tr style=\"text-align: right;\">\n",
       "      <th></th>\n",
       "      <th>Image_Index</th>\n",
       "      <th>Finding_Labels</th>\n",
       "      <th>Follow_Up_#</th>\n",
       "      <th>Patient_ID</th>\n",
       "      <th>Patient_Age</th>\n",
       "      <th>Patient_Gender</th>\n",
       "      <th>View_Position</th>\n",
       "      <th>Original_Image_Width</th>\n",
       "      <th>Original_Image_Height</th>\n",
       "      <th>Original_Image_Pixel_Spacing_X</th>\n",
       "      <th>...</th>\n",
       "      <th>Emphysema</th>\n",
       "      <th>Fibrosis</th>\n",
       "      <th>Effusion</th>\n",
       "      <th>Pneumonia</th>\n",
       "      <th>Pleural_Thickening</th>\n",
       "      <th>Cardiomegaly</th>\n",
       "      <th>Nodule</th>\n",
       "      <th>Mass</th>\n",
       "      <th>Hernia</th>\n",
       "      <th>Paths</th>\n",
       "    </tr>\n",
       "  </thead>\n",
       "  <tbody>\n",
       "    <tr>\n",
       "      <th>0</th>\n",
       "      <td>00000001_000.png</td>\n",
       "      <td>[Cardiomegaly]</td>\n",
       "      <td>0</td>\n",
       "      <td>1</td>\n",
       "      <td>58</td>\n",
       "      <td>M</td>\n",
       "      <td>PA</td>\n",
       "      <td>2682</td>\n",
       "      <td>2749</td>\n",
       "      <td>0.143</td>\n",
       "      <td>...</td>\n",
       "      <td>0</td>\n",
       "      <td>0</td>\n",
       "      <td>0</td>\n",
       "      <td>0</td>\n",
       "      <td>0</td>\n",
       "      <td>1</td>\n",
       "      <td>0</td>\n",
       "      <td>0</td>\n",
       "      <td>0</td>\n",
       "      <td>/kaggle/input/data/images_001/images/00000001_000.png</td>\n",
       "    </tr>\n",
       "    <tr>\n",
       "      <th>1</th>\n",
       "      <td>00000001_001.png</td>\n",
       "      <td>[Cardiomegaly, Emphysema]</td>\n",
       "      <td>1</td>\n",
       "      <td>1</td>\n",
       "      <td>58</td>\n",
       "      <td>M</td>\n",
       "      <td>PA</td>\n",
       "      <td>2894</td>\n",
       "      <td>2729</td>\n",
       "      <td>0.143</td>\n",
       "      <td>...</td>\n",
       "      <td>1</td>\n",
       "      <td>0</td>\n",
       "      <td>0</td>\n",
       "      <td>0</td>\n",
       "      <td>0</td>\n",
       "      <td>1</td>\n",
       "      <td>0</td>\n",
       "      <td>0</td>\n",
       "      <td>0</td>\n",
       "      <td>/kaggle/input/data/images_001/images/00000001_001.png</td>\n",
       "    </tr>\n",
       "    <tr>\n",
       "      <th>2</th>\n",
       "      <td>00000001_002.png</td>\n",
       "      <td>[Cardiomegaly, Effusion]</td>\n",
       "      <td>2</td>\n",
       "      <td>1</td>\n",
       "      <td>58</td>\n",
       "      <td>M</td>\n",
       "      <td>PA</td>\n",
       "      <td>2500</td>\n",
       "      <td>2048</td>\n",
       "      <td>0.168</td>\n",
       "      <td>...</td>\n",
       "      <td>0</td>\n",
       "      <td>0</td>\n",
       "      <td>1</td>\n",
       "      <td>0</td>\n",
       "      <td>0</td>\n",
       "      <td>1</td>\n",
       "      <td>0</td>\n",
       "      <td>0</td>\n",
       "      <td>0</td>\n",
       "      <td>/kaggle/input/data/images_001/images/00000001_002.png</td>\n",
       "    </tr>\n",
       "    <tr>\n",
       "      <th>3</th>\n",
       "      <td>00000002_000.png</td>\n",
       "      <td>[No Finding]</td>\n",
       "      <td>0</td>\n",
       "      <td>2</td>\n",
       "      <td>81</td>\n",
       "      <td>M</td>\n",
       "      <td>PA</td>\n",
       "      <td>2500</td>\n",
       "      <td>2048</td>\n",
       "      <td>0.171</td>\n",
       "      <td>...</td>\n",
       "      <td>0</td>\n",
       "      <td>0</td>\n",
       "      <td>0</td>\n",
       "      <td>0</td>\n",
       "      <td>0</td>\n",
       "      <td>0</td>\n",
       "      <td>0</td>\n",
       "      <td>0</td>\n",
       "      <td>0</td>\n",
       "      <td>/kaggle/input/data/images_001/images/00000002_000.png</td>\n",
       "    </tr>\n",
       "    <tr>\n",
       "      <th>4</th>\n",
       "      <td>00000003_000.png</td>\n",
       "      <td>[Hernia]</td>\n",
       "      <td>0</td>\n",
       "      <td>3</td>\n",
       "      <td>81</td>\n",
       "      <td>F</td>\n",
       "      <td>PA</td>\n",
       "      <td>2582</td>\n",
       "      <td>2991</td>\n",
       "      <td>0.143</td>\n",
       "      <td>...</td>\n",
       "      <td>0</td>\n",
       "      <td>0</td>\n",
       "      <td>0</td>\n",
       "      <td>0</td>\n",
       "      <td>0</td>\n",
       "      <td>0</td>\n",
       "      <td>0</td>\n",
       "      <td>0</td>\n",
       "      <td>1</td>\n",
       "      <td>/kaggle/input/data/images_001/images/00000003_000.png</td>\n",
       "    </tr>\n",
       "  </tbody>\n",
       "</table>\n",
       "<p>5 rows × 27 columns</p>\n",
       "</div>"
      ],
      "text/plain": [
       "        Image_Index             Finding_Labels  Follow_Up_#  Patient_ID  \\\n",
       "0  00000001_000.png             [Cardiomegaly]            0           1   \n",
       "1  00000001_001.png  [Cardiomegaly, Emphysema]            1           1   \n",
       "2  00000001_002.png   [Cardiomegaly, Effusion]            2           1   \n",
       "3  00000002_000.png               [No Finding]            0           2   \n",
       "4  00000003_000.png                   [Hernia]            0           3   \n",
       "\n",
       "   Patient_Age Patient_Gender View_Position  Original_Image_Width  \\\n",
       "0           58              M            PA                  2682   \n",
       "1           58              M            PA                  2894   \n",
       "2           58              M            PA                  2500   \n",
       "3           81              M            PA                  2500   \n",
       "4           81              F            PA                  2582   \n",
       "\n",
       "   Original_Image_Height  Original_Image_Pixel_Spacing_X  ...  Emphysema  \\\n",
       "0                   2749                           0.143  ...          0   \n",
       "1                   2729                           0.143  ...          1   \n",
       "2                   2048                           0.168  ...          0   \n",
       "3                   2048                           0.171  ...          0   \n",
       "4                   2991                           0.143  ...          0   \n",
       "\n",
       "   Fibrosis  Effusion  Pneumonia  Pleural_Thickening  Cardiomegaly  Nodule  \\\n",
       "0         0         0          0                   0             1       0   \n",
       "1         0         0          0                   0             1       0   \n",
       "2         0         1          0                   0             1       0   \n",
       "3         0         0          0                   0             0       0   \n",
       "4         0         0          0                   0             0       0   \n",
       "\n",
       "   Mass  Hernia                                                  Paths  \n",
       "0     0       0  /kaggle/input/data/images_001/images/00000001_000.png  \n",
       "1     0       0  /kaggle/input/data/images_001/images/00000001_001.png  \n",
       "2     0       0  /kaggle/input/data/images_001/images/00000001_002.png  \n",
       "3     0       0  /kaggle/input/data/images_001/images/00000002_000.png  \n",
       "4     0       1  /kaggle/input/data/images_001/images/00000003_000.png  \n",
       "\n",
       "[5 rows x 27 columns]"
      ]
     },
     "execution_count": 4,
     "metadata": {},
     "output_type": "execute_result"
    }
   ],
   "source": [
    "\n",
    "labels_df['Finding_Labels'] = labels_df['Finding_Labels'].apply(lambda s: [l for l in str(s).split('|')])\n",
    "\n",
    "num_glob = glob('/kaggle/input/data/*/images/*.png')\n",
    "img_path = {os.path.basename(x): x for x in num_glob}\n",
    "\n",
    "labels_df['Paths'] = labels_df['Image_Index'].map(img_path.get)\n",
    "labels_df.head()"
   ]
  },
  {
   "cell_type": "code",
   "execution_count": 5,
   "id": "8b72439a",
   "metadata": {
    "_cell_guid": "1052fa10-fd86-4042-ae7b-ec09fbba0d86",
    "_uuid": "ba306f3c-3183-4087-8143-e385f83a22df",
    "collapsed": false,
    "execution": {
     "iopub.execute_input": "2023-08-20T17:16:10.223594Z",
     "iopub.status.busy": "2023-08-20T17:16:10.223285Z",
     "iopub.status.idle": "2023-08-20T17:16:10.232553Z",
     "shell.execute_reply": "2023-08-20T17:16:10.231540Z"
    },
    "jupyter": {
     "outputs_hidden": false
    },
    "papermill": {
     "duration": 0.020582,
     "end_time": "2023-08-20T17:16:10.234866",
     "exception": false,
     "start_time": "2023-08-20T17:16:10.214284",
     "status": "completed"
    },
    "tags": []
   },
   "outputs": [
    {
     "data": {
      "text/plain": [
       "30805"
      ]
     },
     "execution_count": 5,
     "metadata": {},
     "output_type": "execute_result"
    }
   ],
   "source": [
    "unique_patients = np.unique(labels_df['Patient_ID'])\n",
    "len(unique_patients)"
   ]
  },
  {
   "cell_type": "code",
   "execution_count": 6,
   "id": "20ce3ef9",
   "metadata": {
    "_cell_guid": "8ff1d9c5-1b3e-4747-8716-f0c811db89d8",
    "_uuid": "31d9e8b0-d79f-4b79-8f89-2bfaa6e7ab99",
    "collapsed": false,
    "execution": {
     "iopub.execute_input": "2023-08-20T17:16:10.250074Z",
     "iopub.status.busy": "2023-08-20T17:16:10.249809Z",
     "iopub.status.idle": "2023-08-20T17:16:10.259919Z",
     "shell.execute_reply": "2023-08-20T17:16:10.259043Z"
    },
    "jupyter": {
     "outputs_hidden": false
    },
    "papermill": {
     "duration": 0.01978,
     "end_time": "2023-08-20T17:16:10.261952",
     "exception": false,
     "start_time": "2023-08-20T17:16:10.242172",
     "status": "completed"
    },
    "tags": []
   },
   "outputs": [
    {
     "data": {
      "text/plain": [
       "24644"
      ]
     },
     "execution_count": 6,
     "metadata": {},
     "output_type": "execute_result"
    }
   ],
   "source": [
    "from sklearn.model_selection import train_test_split\n",
    "\n",
    "# train-70\n",
    "# val-10\n",
    "# test-20\n",
    "train_val_df_patients, test_df_patients = train_test_split(unique_patients, \n",
    "                                   test_size = 0.2,\n",
    "                                   random_state = SEED,\n",
    "                                    shuffle= True\n",
    "                                   )\n",
    "len(train_val_df_patients)"
   ]
  },
  {
   "cell_type": "code",
   "execution_count": 7,
   "id": "daba1f91",
   "metadata": {
    "_cell_guid": "dc7d2e26-3cd9-4631-9fc5-62e3b856893a",
    "_uuid": "5060ce8a-6576-434f-93f5-927f625d461a",
    "collapsed": false,
    "execution": {
     "iopub.execute_input": "2023-08-20T17:16:10.277471Z",
     "iopub.status.busy": "2023-08-20T17:16:10.276713Z",
     "iopub.status.idle": "2023-08-20T17:16:10.326063Z",
     "shell.execute_reply": "2023-08-20T17:16:10.324725Z"
    },
    "jupyter": {
     "outputs_hidden": false
    },
    "papermill": {
     "duration": 0.059711,
     "end_time": "2023-08-20T17:16:10.328818",
     "exception": false,
     "start_time": "2023-08-20T17:16:10.269107",
     "status": "completed"
    },
    "tags": []
   },
   "outputs": [],
   "source": [
    "train_val_df = labels_df[labels_df['Patient_ID'].isin(train_val_df_patients)]"
   ]
  },
  {
   "cell_type": "code",
   "execution_count": 8,
   "id": "5468b8ed",
   "metadata": {
    "_cell_guid": "47af73dc-5657-479e-9a12-cf79a4f16807",
    "_uuid": "ce4122ec-3f90-4da8-ae78-6fb3ed4921c7",
    "collapsed": false,
    "execution": {
     "iopub.execute_input": "2023-08-20T17:16:10.344478Z",
     "iopub.status.busy": "2023-08-20T17:16:10.344142Z",
     "iopub.status.idle": "2023-08-20T17:16:10.366608Z",
     "shell.execute_reply": "2023-08-20T17:16:10.365441Z"
    },
    "jupyter": {
     "outputs_hidden": false
    },
    "papermill": {
     "duration": 0.032954,
     "end_time": "2023-08-20T17:16:10.369067",
     "exception": false,
     "start_time": "2023-08-20T17:16:10.336113",
     "status": "completed"
    },
    "tags": []
   },
   "outputs": [
    {
     "data": {
      "text/html": [
       "<div>\n",
       "<style scoped>\n",
       "    .dataframe tbody tr th:only-of-type {\n",
       "        vertical-align: middle;\n",
       "    }\n",
       "\n",
       "    .dataframe tbody tr th {\n",
       "        vertical-align: top;\n",
       "    }\n",
       "\n",
       "    .dataframe thead th {\n",
       "        text-align: right;\n",
       "    }\n",
       "</style>\n",
       "<table border=\"1\" class=\"dataframe\">\n",
       "  <thead>\n",
       "    <tr style=\"text-align: right;\">\n",
       "      <th></th>\n",
       "      <th>Image_Index</th>\n",
       "      <th>Finding_Labels</th>\n",
       "      <th>Follow_Up_#</th>\n",
       "      <th>Patient_ID</th>\n",
       "      <th>Patient_Age</th>\n",
       "      <th>Patient_Gender</th>\n",
       "      <th>View_Position</th>\n",
       "      <th>Original_Image_Width</th>\n",
       "      <th>Original_Image_Height</th>\n",
       "      <th>Original_Image_Pixel_Spacing_X</th>\n",
       "      <th>...</th>\n",
       "      <th>Emphysema</th>\n",
       "      <th>Fibrosis</th>\n",
       "      <th>Effusion</th>\n",
       "      <th>Pneumonia</th>\n",
       "      <th>Pleural_Thickening</th>\n",
       "      <th>Cardiomegaly</th>\n",
       "      <th>Nodule</th>\n",
       "      <th>Mass</th>\n",
       "      <th>Hernia</th>\n",
       "      <th>Paths</th>\n",
       "    </tr>\n",
       "  </thead>\n",
       "  <tbody>\n",
       "    <tr>\n",
       "      <th>0</th>\n",
       "      <td>00000001_000.png</td>\n",
       "      <td>[Cardiomegaly]</td>\n",
       "      <td>0</td>\n",
       "      <td>1</td>\n",
       "      <td>58</td>\n",
       "      <td>M</td>\n",
       "      <td>PA</td>\n",
       "      <td>2682</td>\n",
       "      <td>2749</td>\n",
       "      <td>0.143</td>\n",
       "      <td>...</td>\n",
       "      <td>0</td>\n",
       "      <td>0</td>\n",
       "      <td>0</td>\n",
       "      <td>0</td>\n",
       "      <td>0</td>\n",
       "      <td>1</td>\n",
       "      <td>0</td>\n",
       "      <td>0</td>\n",
       "      <td>0</td>\n",
       "      <td>/kaggle/input/data/images_001/images/00000001_000.png</td>\n",
       "    </tr>\n",
       "    <tr>\n",
       "      <th>1</th>\n",
       "      <td>00000001_001.png</td>\n",
       "      <td>[Cardiomegaly, Emphysema]</td>\n",
       "      <td>1</td>\n",
       "      <td>1</td>\n",
       "      <td>58</td>\n",
       "      <td>M</td>\n",
       "      <td>PA</td>\n",
       "      <td>2894</td>\n",
       "      <td>2729</td>\n",
       "      <td>0.143</td>\n",
       "      <td>...</td>\n",
       "      <td>1</td>\n",
       "      <td>0</td>\n",
       "      <td>0</td>\n",
       "      <td>0</td>\n",
       "      <td>0</td>\n",
       "      <td>1</td>\n",
       "      <td>0</td>\n",
       "      <td>0</td>\n",
       "      <td>0</td>\n",
       "      <td>/kaggle/input/data/images_001/images/00000001_001.png</td>\n",
       "    </tr>\n",
       "    <tr>\n",
       "      <th>2</th>\n",
       "      <td>00000001_002.png</td>\n",
       "      <td>[Cardiomegaly, Effusion]</td>\n",
       "      <td>2</td>\n",
       "      <td>1</td>\n",
       "      <td>58</td>\n",
       "      <td>M</td>\n",
       "      <td>PA</td>\n",
       "      <td>2500</td>\n",
       "      <td>2048</td>\n",
       "      <td>0.168</td>\n",
       "      <td>...</td>\n",
       "      <td>0</td>\n",
       "      <td>0</td>\n",
       "      <td>1</td>\n",
       "      <td>0</td>\n",
       "      <td>0</td>\n",
       "      <td>1</td>\n",
       "      <td>0</td>\n",
       "      <td>0</td>\n",
       "      <td>0</td>\n",
       "      <td>/kaggle/input/data/images_001/images/00000001_002.png</td>\n",
       "    </tr>\n",
       "    <tr>\n",
       "      <th>4</th>\n",
       "      <td>00000003_000.png</td>\n",
       "      <td>[Hernia]</td>\n",
       "      <td>0</td>\n",
       "      <td>3</td>\n",
       "      <td>81</td>\n",
       "      <td>F</td>\n",
       "      <td>PA</td>\n",
       "      <td>2582</td>\n",
       "      <td>2991</td>\n",
       "      <td>0.143</td>\n",
       "      <td>...</td>\n",
       "      <td>0</td>\n",
       "      <td>0</td>\n",
       "      <td>0</td>\n",
       "      <td>0</td>\n",
       "      <td>0</td>\n",
       "      <td>0</td>\n",
       "      <td>0</td>\n",
       "      <td>0</td>\n",
       "      <td>1</td>\n",
       "      <td>/kaggle/input/data/images_001/images/00000003_000.png</td>\n",
       "    </tr>\n",
       "    <tr>\n",
       "      <th>5</th>\n",
       "      <td>00000003_001.png</td>\n",
       "      <td>[Hernia]</td>\n",
       "      <td>1</td>\n",
       "      <td>3</td>\n",
       "      <td>74</td>\n",
       "      <td>F</td>\n",
       "      <td>PA</td>\n",
       "      <td>2500</td>\n",
       "      <td>2048</td>\n",
       "      <td>0.168</td>\n",
       "      <td>...</td>\n",
       "      <td>0</td>\n",
       "      <td>0</td>\n",
       "      <td>0</td>\n",
       "      <td>0</td>\n",
       "      <td>0</td>\n",
       "      <td>0</td>\n",
       "      <td>0</td>\n",
       "      <td>0</td>\n",
       "      <td>1</td>\n",
       "      <td>/kaggle/input/data/images_001/images/00000003_001.png</td>\n",
       "    </tr>\n",
       "  </tbody>\n",
       "</table>\n",
       "<p>5 rows × 27 columns</p>\n",
       "</div>"
      ],
      "text/plain": [
       "        Image_Index             Finding_Labels  Follow_Up_#  Patient_ID  \\\n",
       "0  00000001_000.png             [Cardiomegaly]            0           1   \n",
       "1  00000001_001.png  [Cardiomegaly, Emphysema]            1           1   \n",
       "2  00000001_002.png   [Cardiomegaly, Effusion]            2           1   \n",
       "4  00000003_000.png                   [Hernia]            0           3   \n",
       "5  00000003_001.png                   [Hernia]            1           3   \n",
       "\n",
       "   Patient_Age Patient_Gender View_Position  Original_Image_Width  \\\n",
       "0           58              M            PA                  2682   \n",
       "1           58              M            PA                  2894   \n",
       "2           58              M            PA                  2500   \n",
       "4           81              F            PA                  2582   \n",
       "5           74              F            PA                  2500   \n",
       "\n",
       "   Original_Image_Height  Original_Image_Pixel_Spacing_X  ...  Emphysema  \\\n",
       "0                   2749                           0.143  ...          0   \n",
       "1                   2729                           0.143  ...          1   \n",
       "2                   2048                           0.168  ...          0   \n",
       "4                   2991                           0.143  ...          0   \n",
       "5                   2048                           0.168  ...          0   \n",
       "\n",
       "   Fibrosis  Effusion  Pneumonia  Pleural_Thickening  Cardiomegaly  Nodule  \\\n",
       "0         0         0          0                   0             1       0   \n",
       "1         0         0          0                   0             1       0   \n",
       "2         0         1          0                   0             1       0   \n",
       "4         0         0          0                   0             0       0   \n",
       "5         0         0          0                   0             0       0   \n",
       "\n",
       "   Mass  Hernia                                                  Paths  \n",
       "0     0       0  /kaggle/input/data/images_001/images/00000001_000.png  \n",
       "1     0       0  /kaggle/input/data/images_001/images/00000001_001.png  \n",
       "2     0       0  /kaggle/input/data/images_001/images/00000001_002.png  \n",
       "4     0       1  /kaggle/input/data/images_001/images/00000003_000.png  \n",
       "5     0       1  /kaggle/input/data/images_001/images/00000003_001.png  \n",
       "\n",
       "[5 rows x 27 columns]"
      ]
     },
     "execution_count": 8,
     "metadata": {},
     "output_type": "execute_result"
    }
   ],
   "source": [
    "train_val_df.head()"
   ]
  },
  {
   "cell_type": "code",
   "execution_count": 9,
   "id": "5e2a8ad7",
   "metadata": {
    "_cell_guid": "1f8001a9-76cc-47ad-82af-9402d77c6173",
    "_uuid": "d01adf34-18c5-49af-b3b5-338879c7cb31",
    "collapsed": false,
    "execution": {
     "iopub.execute_input": "2023-08-20T17:16:10.384912Z",
     "iopub.status.busy": "2023-08-20T17:16:10.384620Z",
     "iopub.status.idle": "2023-08-20T17:16:10.389967Z",
     "shell.execute_reply": "2023-08-20T17:16:10.389064Z"
    },
    "jupyter": {
     "outputs_hidden": false
    },
    "papermill": {
     "duration": 0.015751,
     "end_time": "2023-08-20T17:16:10.392036",
     "exception": false,
     "start_time": "2023-08-20T17:16:10.376285",
     "status": "completed"
    },
    "tags": []
   },
   "outputs": [
    {
     "name": "stdout",
     "output_type": "stream",
     "text": [
      "train_val size 89764\n",
      "test size 22356\n"
     ]
    }
   ],
   "source": [
    "labels_df.shape\n",
    "print('train_val size', train_val_df.shape[0])\n",
    "print('test size', labels_df.shape[0] - train_val_df.shape[0])"
   ]
  },
  {
   "cell_type": "code",
   "execution_count": 10,
   "id": "05eb5dc0",
   "metadata": {
    "_cell_guid": "a56c961f-a443-4ae9-8f9a-a52be3e90b99",
    "_uuid": "db273220-b8dd-4b32-b257-3e4f2a5f8cfa",
    "collapsed": false,
    "execution": {
     "iopub.execute_input": "2023-08-20T17:16:10.409489Z",
     "iopub.status.busy": "2023-08-20T17:16:10.408800Z",
     "iopub.status.idle": "2023-08-20T17:16:19.446114Z",
     "shell.execute_reply": "2023-08-20T17:16:19.445083Z"
    },
    "jupyter": {
     "outputs_hidden": false
    },
    "papermill": {
     "duration": 9.048779,
     "end_time": "2023-08-20T17:16:19.448534",
     "exception": false,
     "start_time": "2023-08-20T17:16:10.399755",
     "status": "completed"
    },
    "tags": []
   },
   "outputs": [],
   "source": [
    "item_transforms = [\n",
    "    Resize((224, 224)),\n",
    "]\n",
    "\n",
    "batch_transforms = [\n",
    "    Flip(),\n",
    "    Rotate(),\n",
    "    Normalize.from_stats(*imagenet_stats),\n",
    "]\n",
    "\n",
    "\n",
    "def get_x(row):\n",
    "    return row['Paths']\n",
    "\n",
    "def get_y(row):\n",
    "    labels = row[disease_labels].tolist()\n",
    "    return labels\n",
    "\n",
    "dblock = DataBlock(\n",
    "    blocks=(ImageBlock, MultiCategoryBlock(encoded=True,vocab=disease_labels)),\n",
    "                   splitter=RandomSplitter(valid_pct=0.125, seed=SEED),\n",
    "                   get_x=get_x,\n",
    "                   get_y=get_y,\n",
    "                   item_tfms=item_transforms,\n",
    "                   batch_tfms=batch_transforms\n",
    "                  )\n",
    "dls = dblock.dataloaders(train_val_df, bs=32)\n",
    "# print(dblock.datasets(train_val_merge).train)"
   ]
  },
  {
   "cell_type": "code",
   "execution_count": 11,
   "id": "79d55f7d",
   "metadata": {
    "_cell_guid": "f0d356db-5bae-42d6-8058-836d0741f640",
    "_uuid": "34c26c3d-07b7-4968-8b7d-df7e4df04087",
    "collapsed": false,
    "execution": {
     "iopub.execute_input": "2023-08-20T17:16:19.466831Z",
     "iopub.status.busy": "2023-08-20T17:16:19.465940Z",
     "iopub.status.idle": "2023-08-20T17:16:33.230221Z",
     "shell.execute_reply": "2023-08-20T17:16:33.229224Z"
    },
    "jupyter": {
     "outputs_hidden": false
    },
    "papermill": {
     "duration": 13.775905,
     "end_time": "2023-08-20T17:16:33.232643",
     "exception": false,
     "start_time": "2023-08-20T17:16:19.456738",
     "status": "completed"
    },
    "tags": []
   },
   "outputs": [
    {
     "name": "stderr",
     "output_type": "stream",
     "text": [
      "/opt/conda/lib/python3.10/site-packages/torch/functional.py:504: UserWarning: torch.meshgrid: in an upcoming release, it will be required to pass the indexing argument. (Triggered internally at /usr/local/src/pytorch/aten/src/ATen/native/TensorShape.cpp:3483.)\n",
      "  return _VF.meshgrid(tensors, **kwargs)  # type: ignore[attr-defined]\n"
     ]
    },
    {
     "data": {
      "application/vnd.jupyter.widget-view+json": {
       "model_id": "183afd9801db4afdab090f2b844cce6e",
       "version_major": 2,
       "version_minor": 0
      },
      "text/plain": [
       "Downloading model.safetensors:   0%|          | 0.00/296M [00:00<?, ?B/s]"
      ]
     },
     "metadata": {},
     "output_type": "display_data"
    }
   ],
   "source": [
    "from fastai.vision.all import *\n",
    "\n",
    "arch = 'coatnet_2_rw_224.sw_in12k_ft_in1k'\n",
    "\n",
    "cbs=[\n",
    "    SaveModelCallback(monitor='valid_loss', min_delta=0.001, with_opt=True),\n",
    "    EarlyStoppingCallback(monitor='valid_loss', min_delta=0.001, patience=2),\n",
    "    ShowGraphCallback()\n",
    "    ]\n",
    "\n",
    "learn = vision_learner(dls, arch, metrics=[accuracy_multi, F1ScoreMulti(), RocAucMulti()],cbs=cbs)\n",
    "learn = learn.load('/kaggle/input/coatnet-70-10-20-split-nf/models/model')\n",
    "\n",
    "learn.model = torch.nn.DataParallel(learn.model)"
   ]
  },
  {
   "cell_type": "code",
   "execution_count": 12,
   "id": "00e8ef7c",
   "metadata": {
    "execution": {
     "iopub.execute_input": "2023-08-20T17:16:33.249872Z",
     "iopub.status.busy": "2023-08-20T17:16:33.249565Z",
     "iopub.status.idle": "2023-08-20T17:16:33.253635Z",
     "shell.execute_reply": "2023-08-20T17:16:33.252656Z"
    },
    "papermill": {
     "duration": 0.014914,
     "end_time": "2023-08-20T17:16:33.255752",
     "exception": false,
     "start_time": "2023-08-20T17:16:33.240838",
     "status": "completed"
    },
    "tags": []
   },
   "outputs": [],
   "source": [
    "# lrs = learn.lr_find(suggest_funcs=(minimum, steep, valley, slide))\n",
    "# print('intial learning rate=', lrs.valley)"
   ]
  },
  {
   "cell_type": "code",
   "execution_count": 13,
   "id": "cab668f6",
   "metadata": {
    "execution": {
     "iopub.execute_input": "2023-08-20T17:16:33.272022Z",
     "iopub.status.busy": "2023-08-20T17:16:33.271754Z",
     "iopub.status.idle": "2023-08-20T17:16:33.275667Z",
     "shell.execute_reply": "2023-08-20T17:16:33.274702Z"
    },
    "papermill": {
     "duration": 0.014395,
     "end_time": "2023-08-20T17:16:33.277674",
     "exception": false,
     "start_time": "2023-08-20T17:16:33.263279",
     "status": "completed"
    },
    "tags": []
   },
   "outputs": [],
   "source": [
    "# lrs = learn.lr_find(suggest_funcs=(minimum, steep, valley, slide))\n",
    "# print('intial learning rate=', lrs.valley)"
   ]
  },
  {
   "cell_type": "code",
   "execution_count": 14,
   "id": "ce913801",
   "metadata": {
    "_cell_guid": "26650f8e-2d78-4de6-b739-3f26ed1b84c9",
    "_uuid": "30a79388-5c62-494d-bfe2-3ecbb65c5c39",
    "collapsed": false,
    "execution": {
     "iopub.execute_input": "2023-08-20T17:16:33.293791Z",
     "iopub.status.busy": "2023-08-20T17:16:33.293514Z",
     "iopub.status.idle": "2023-08-20T17:16:33.297418Z",
     "shell.execute_reply": "2023-08-20T17:16:33.296446Z"
    },
    "jupyter": {
     "outputs_hidden": false
    },
    "papermill": {
     "duration": 0.014243,
     "end_time": "2023-08-20T17:16:33.299468",
     "exception": false,
     "start_time": "2023-08-20T17:16:33.285225",
     "status": "completed"
    },
    "tags": []
   },
   "outputs": [],
   "source": [
    "# lrs = learn.lr_find(suggest_funcs=(minimum, steep, valley, slide))\n",
    "# print('intial learning rate=', lrs.valley)"
   ]
  },
  {
   "cell_type": "code",
   "execution_count": null,
   "id": "ce0d35fc",
   "metadata": {
    "papermill": {
     "duration": 0.007619,
     "end_time": "2023-08-20T17:16:33.314533",
     "exception": false,
     "start_time": "2023-08-20T17:16:33.306914",
     "status": "completed"
    },
    "tags": []
   },
   "outputs": [],
   "source": []
  },
  {
   "cell_type": "code",
   "execution_count": 15,
   "id": "3966a493",
   "metadata": {
    "_cell_guid": "acbf3c2b-5373-4e90-9dc8-ccd94c68ee70",
    "_uuid": "a73be5d6-6cb3-45c0-915c-265c743c8c86",
    "collapsed": false,
    "execution": {
     "iopub.execute_input": "2023-08-20T17:16:33.331231Z",
     "iopub.status.busy": "2023-08-20T17:16:33.330946Z",
     "iopub.status.idle": "2023-08-20T20:06:36.611918Z",
     "shell.execute_reply": "2023-08-20T20:06:36.610768Z"
    },
    "jupyter": {
     "outputs_hidden": false
    },
    "papermill": {
     "duration": 10203.29246,
     "end_time": "2023-08-20T20:06:36.614638",
     "exception": false,
     "start_time": "2023-08-20T17:16:33.322178",
     "status": "completed"
    },
    "tags": []
   },
   "outputs": [
    {
     "data": {
      "text/html": [
       "\n",
       "<style>\n",
       "    /* Turns off some styling */\n",
       "    progress {\n",
       "        /* gets rid of default border in Firefox and Opera. */\n",
       "        border: none;\n",
       "        /* Needs to be in here for Safari polyfill so background images work as expected. */\n",
       "        background-size: auto;\n",
       "    }\n",
       "    progress:not([value]), progress:not([value])::-webkit-progress-bar {\n",
       "        background: repeating-linear-gradient(45deg, #7e7e7e, #7e7e7e 10px, #5c5c5c 10px, #5c5c5c 20px);\n",
       "    }\n",
       "    .progress-bar-interrupted, .progress-bar-interrupted::-webkit-progress-bar {\n",
       "        background: #F44336;\n",
       "    }\n",
       "</style>\n"
      ],
      "text/plain": [
       "<IPython.core.display.HTML object>"
      ]
     },
     "metadata": {},
     "output_type": "display_data"
    },
    {
     "data": {
      "text/html": [
       "<table border=\"1\" class=\"dataframe\">\n",
       "  <thead>\n",
       "    <tr style=\"text-align: left;\">\n",
       "      <th>epoch</th>\n",
       "      <th>train_loss</th>\n",
       "      <th>valid_loss</th>\n",
       "      <th>accuracy_multi</th>\n",
       "      <th>f1_score</th>\n",
       "      <th>roc_auc_score</th>\n",
       "      <th>time</th>\n",
       "    </tr>\n",
       "  </thead>\n",
       "  <tbody>\n",
       "    <tr>\n",
       "      <td>0</td>\n",
       "      <td>0.128515</td>\n",
       "      <td>0.143598</td>\n",
       "      <td>0.950528</td>\n",
       "      <td>0.177472</td>\n",
       "      <td>0.840188</td>\n",
       "      <td>56:28</td>\n",
       "    </tr>\n",
       "    <tr>\n",
       "      <td>1</td>\n",
       "      <td>0.131325</td>\n",
       "      <td>0.143287</td>\n",
       "      <td>0.951159</td>\n",
       "      <td>0.179679</td>\n",
       "      <td>0.849909</td>\n",
       "      <td>56:33</td>\n",
       "    </tr>\n",
       "    <tr>\n",
       "      <td>2</td>\n",
       "      <td>0.124085</td>\n",
       "      <td>0.145472</td>\n",
       "      <td>0.950262</td>\n",
       "      <td>0.238925</td>\n",
       "      <td>0.841721</td>\n",
       "      <td>56:54</td>\n",
       "    </tr>\n",
       "  </tbody>\n",
       "</table>"
      ],
      "text/plain": [
       "<IPython.core.display.HTML object>"
      ]
     },
     "metadata": {},
     "output_type": "display_data"
    },
    {
     "name": "stdout",
     "output_type": "stream",
     "text": [
      "Better model found at epoch 0 with valid_loss value: 0.14359767735004425.\n"
     ]
    },
    {
     "data": {
      "image/png": "[encoded data removed]",
      "text/plain": [
       "<Figure size 600x400 with 1 Axes>"
      ]
     },
     "metadata": {},
     "output_type": "display_data"
    },
    {
     "name": "stdout",
     "output_type": "stream",
     "text": [
      "No improvement since epoch 0: early stopping\n"
     ]
    }
   ],
   "source": [
    "learn.unfreeze()\n",
    "learn.fit_one_cycle(5, slice(2e-5, 8e-5))"
   ]
  },
  {
   "cell_type": "code",
   "execution_count": 16,
   "id": "4b6736c3",
   "metadata": {
    "_cell_guid": "6cf3994e-b519-4c62-aa13-d8800163f2c5",
    "_uuid": "68eeb659-73b8-47d5-8383-c6b366514a2f",
    "collapsed": false,
    "execution": {
     "iopub.execute_input": "2023-08-20T20:06:36.633757Z",
     "iopub.status.busy": "2023-08-20T20:06:36.633438Z",
     "iopub.status.idle": "2023-08-20T20:06:38.003815Z",
     "shell.execute_reply": "2023-08-20T20:06:38.002687Z"
    },
    "jupyter": {
     "outputs_hidden": false
    },
    "papermill": {
     "duration": 1.382385,
     "end_time": "2023-08-20T20:06:38.005977",
     "exception": false,
     "start_time": "2023-08-20T20:06:36.623592",
     "status": "completed"
    },
    "tags": []
   },
   "outputs": [
    {
     "data": {
      "text/plain": [
       "Path('models/coatnet-stage2.pth')"
      ]
     },
     "execution_count": 16,
     "metadata": {},
     "output_type": "execute_result"
    }
   ],
   "source": [
    "learn.save('coatnet-stage2')"
   ]
  }
 ],
 "metadata": {
  "kernelspec": {
   "display_name": "Python 3",
   "language": "python",
   "name": "python3"
  },
  "language_info": {
   "codemirror_mode": {
    "name": "ipython",
    "version": 3
   },
   "file_extension": ".py",
   "mimetype": "text/x-python",
   "name": "python",
   "nbconvert_exporter": "python",
   "pygments_lexer": "ipython3",
   "version": "3.10.12"
  },
  "papermill": {
   "default_parameters": {},
   "duration": 10261.092945,
   "end_time": "2023-08-20T20:06:41.761049",
   "environment_variables": {},
   "exception": null,
   "input_path": "__notebook__.ipynb",
   "output_path": "__notebook__.ipynb",
   "parameters": {},
   "start_time": "2023-08-20T17:15:40.668104",
   "version": "2.4.0"
  },
  "widgets": {
   "application/vnd.jupyter.widget-state+json": {
    "state": {
     "0870fe9c124340c794e4ffd7d27eb217": {
      "model_module": "@jupyter-widgets/controls",
      "model_module_version": "1.5.0",
      "model_name": "DescriptionStyleModel",
      "state": {
       "_model_module": "@jupyter-widgets/controls",
       "_model_module_version": "1.5.0",
       "_model_name": "DescriptionStyleModel",
       "_view_count": null,
       "_view_module": "@jupyter-widgets/base",
       "_view_module_version": "1.2.0",
       "_view_name": "StyleView",
       "description_width": ""
      }
     },
     "183afd9801db4afdab090f2b844cce6e": {
      "model_module": "@jupyter-widgets/controls",
      "model_module_version": "1.5.0",
      "model_name": "HBoxModel",
      "state": {
       "_dom_classes": [],
       "_model_module": "@jupyter-widgets/controls",
       "_model_module_version": "1.5.0",
       "_model_name": "HBoxModel",
       "_view_count": null,
       "_view_module": "@jupyter-widgets/controls",
       "_view_module_version": "1.5.0",
       "_view_name": "HBoxView",
       "box_style": "",
       "children": [
        "IPY_MODEL_7e6d73563215481394fd0d6926b83cb5",
        "IPY_MODEL_262b58d39f384438a8b20d7efd9b3f39",
        "IPY_MODEL_28766422bd204568be50258d96d79267"
       ],
       "layout": "IPY_MODEL_a7d82d67e6824a829124d02e5daa7e51"
      }
     },
     "262b58d39f384438a8b20d7efd9b3f39": {
      "model_module": "@jupyter-widgets/controls",
      "model_module_version": "1.5.0",
      "model_name": "FloatProgressModel",
      "state": {
       "_dom_classes": [],
       "_model_module": "@jupyter-widgets/controls",
       "_model_module_version": "1.5.0",
       "_model_name": "FloatProgressModel",
       "_view_count": null,
       "_view_module": "@jupyter-widgets/controls",
       "_view_module_version": "1.5.0",
       "_view_name": "ProgressView",
       "bar_style": "success",
       "description": "",
       "description_tooltip": null,
       "layout": "IPY_MODEL_dbefd878e4544eaab2fe42ccf95bb74c",
       "max": 295635514.0,
       "min": 0.0,
       "orientation": "horizontal",
       "style": "IPY_MODEL_a3026ec2424245c89cc8460d0cbf25b7",
       "value": 295635514.0
      }
     },
     "28766422bd204568be50258d96d79267": {
      "model_module": "@jupyter-widgets/controls",
      "model_module_version": "1.5.0",
      "model_name": "HTMLModel",
      "state": {
       "_dom_classes": [],
       "_model_module": "@jupyter-widgets/controls",
       "_model_module_version": "1.5.0",
       "_model_name": "HTMLModel",
       "_view_count": null,
       "_view_module": "@jupyter-widgets/controls",
       "_view_module_version": "1.5.0",
       "_view_name": "HTMLView",
       "description": "",
       "description_tooltip": null,
       "layout": "IPY_MODEL_c2db82d957184f58b0664bc186ba3c94",
       "placeholder": "​",
       "style": "IPY_MODEL_3bdec5a6466f42ea9acc3d38994cd158",
       "value": " 296M/296M [00:01&lt;00:00, 201MB/s]"
      }
     },
     "3bdec5a6466f42ea9acc3d38994cd158": {
      "model_module": "@jupyter-widgets/controls",
      "model_module_version": "1.5.0",
      "model_name": "DescriptionStyleModel",
      "state": {
       "_model_module": "@jupyter-widgets/controls",
       "_model_module_version": "1.5.0",
       "_model_name": "DescriptionStyleModel",
       "_view_count": null,
       "_view_module": "@jupyter-widgets/base",
       "_view_module_version": "1.2.0",
       "_view_name": "StyleView",
       "description_width": ""
      }
     },
     "7e6d73563215481394fd0d6926b83cb5": {
      "model_module": "@jupyter-widgets/controls",
      "model_module_version": "1.5.0",
      "model_name": "HTMLModel",
      "state": {
       "_dom_classes": [],
       "_model_module": "@jupyter-widgets/controls",
       "_model_module_version": "1.5.0",
       "_model_name": "HTMLModel",
       "_view_count": null,
       "_view_module": "@jupyter-widgets/controls",
       "_view_module_version": "1.5.0",
       "_view_name": "HTMLView",
       "description": "",
       "description_tooltip": null,
       "layout": "IPY_MODEL_8c8a78d4f2af4f119d4cfa86bfbce4de",
       "placeholder": "​",
       "style": "IPY_MODEL_0870fe9c124340c794e4ffd7d27eb217",
       "value": "Downloading model.safetensors: 100%"
      }
     },
     "8c8a78d4f2af4f119d4cfa86bfbce4de": {
      "model_module": "@jupyter-widgets/base",
      "model_module_version": "1.2.0",
      "model_name": "LayoutModel",
      "state": {
       "_model_module": "@jupyter-widgets/base",
       "_model_module_version": "1.2.0",
       "_model_name": "LayoutModel",
       "_view_count": null,
       "_view_module": "@jupyter-widgets/base",
       "_view_module_version": "1.2.0",
       "_view_name": "LayoutView",
       "align_content": null,
       "align_items": null,
       "align_self": null,
       "border": null,
       "bottom": null,
       "display": null,
       "flex": null,
       "flex_flow": null,
       "grid_area": null,
       "grid_auto_columns": null,
       "grid_auto_flow": null,
       "grid_auto_rows": null,
       "grid_column": null,
       "grid_gap": null,
       "grid_row": null,
       "grid_template_areas": null,
       "grid_template_columns": null,
       "grid_template_rows": null,
       "height": null,
       "justify_content": null,
       "justify_items": null,
       "left": null,
       "margin": null,
       "max_height": null,
       "max_width": null,
       "min_height": null,
       "min_width": null,
       "object_fit": null,
       "object_position": null,
       "order": null,
       "overflow": null,
       "overflow_x": null,
       "overflow_y": null,
       "padding": null,
       "right": null,
       "top": null,
       "visibility": null,
       "width": null
      }
     },
     "a3026ec2424245c89cc8460d0cbf25b7": {
      "model_module": "@jupyter-widgets/controls",
      "model_module_version": "1.5.0",
      "model_name": "ProgressStyleModel",
      "state": {
       "_model_module": "@jupyter-widgets/controls",
       "_model_module_version": "1.5.0",
       "_model_name": "ProgressStyleModel",
       "_view_count": null,
       "_view_module": "@jupyter-widgets/base",
       "_view_module_version": "1.2.0",
       "_view_name": "StyleView",
       "bar_color": null,
       "description_width": ""
      }
     },
     "a7d82d67e6824a829124d02e5daa7e51": {
      "model_module": "@jupyter-widgets/base",
      "model_module_version": "1.2.0",
      "model_name": "LayoutModel",
      "state": {
       "_model_module": "@jupyter-widgets/base",
       "_model_module_version": "1.2.0",
       "_model_name": "LayoutModel",
       "_view_count": null,
       "_view_module": "@jupyter-widgets/base",
       "_view_module_version": "1.2.0",
       "_view_name": "LayoutView",
       "align_content": null,
       "align_items": null,
       "align_self": null,
       "border": null,
       "bottom": null,
       "display": null,
       "flex": null,
       "flex_flow": null,
       "grid_area": null,
       "grid_auto_columns": null,
       "grid_auto_flow": null,
       "grid_auto_rows": null,
       "grid_column": null,
       "grid_gap": null,
       "grid_row": null,
       "grid_template_areas": null,
       "grid_template_columns": null,
       "grid_template_rows": null,
       "height": null,
       "justify_content": null,
       "justify_items": null,
       "left": null,
       "margin": null,
       "max_height": null,
       "max_width": null,
       "min_height": null,
       "min_width": null,
       "object_fit": null,
       "object_position": null,
       "order": null,
       "overflow": null,
       "overflow_x": null,
       "overflow_y": null,
       "padding": null,
       "right": null,
       "top": null,
       "visibility": null,
       "width": null
      }
     },
     "c2db82d957184f58b0664bc186ba3c94": {
      "model_module": "@jupyter-widgets/base",
      "model_module_version": "1.2.0",
      "model_name": "LayoutModel",
      "state": {
       "_model_module": "@jupyter-widgets/base",
       "_model_module_version": "1.2.0",
       "_model_name": "LayoutModel",
       "_view_count": null,
       "_view_module": "@jupyter-widgets/base",
       "_view_module_version": "1.2.0",
       "_view_name": "LayoutView",
       "align_content": null,
       "align_items": null,
       "align_self": null,
       "border": null,
       "bottom": null,
       "display": null,
       "flex": null,
       "flex_flow": null,
       "grid_area": null,
       "grid_auto_columns": null,
       "grid_auto_flow": null,
       "grid_auto_rows": null,
       "grid_column": null,
       "grid_gap": null,
       "grid_row": null,
       "grid_template_areas": null,
       "grid_template_columns": null,
       "grid_template_rows": null,
       "height": null,
       "justify_content": null,
       "justify_items": null,
       "left": null,
       "margin": null,
       "max_height": null,
       "max_width": null,
       "min_height": null,
       "min_width": null,
       "object_fit": null,
       "object_position": null,
       "order": null,
       "overflow": null,
       "overflow_x": null,
       "overflow_y": null,
       "padding": null,
       "right": null,
       "top": null,
       "visibility": null,
       "width": null
      }
     },
     "dbefd878e4544eaab2fe42ccf95bb74c": {
      "model_module": "@jupyter-widgets/base",
      "model_module_version": "1.2.0",
      "model_name": "LayoutModel",
      "state": {
       "_model_module": "@jupyter-widgets/base",
       "_model_module_version": "1.2.0",
       "_model_name": "LayoutModel",
       "_view_count": null,
       "_view_module": "@jupyter-widgets/base",
       "_view_module_version": "1.2.0",
       "_view_name": "LayoutView",
       "align_content": null,
       "align_items": null,
       "align_self": null,
       "border": null,
       "bottom": null,
       "display": null,
       "flex": null,
       "flex_flow": null,
       "grid_area": null,
       "grid_auto_columns": null,
       "grid_auto_flow": null,
       "grid_auto_rows": null,
       "grid_column": null,
       "grid_gap": null,
       "grid_row": null,
       "grid_template_areas": null,
       "grid_template_columns": null,
       "grid_template_rows": null,
       "height": null,
       "justify_content": null,
       "justify_items": null,
       "left": null,
       "margin": null,
       "max_height": null,
       "max_width": null,
       "min_height": null,
       "min_width": null,
       "object_fit": null,
       "object_position": null,
       "order": null,
       "overflow": null,
       "overflow_x": null,
       "overflow_y": null,
       "padding": null,
       "right": null,
       "top": null,
       "visibility": null,
       "width": null
      }
     }
    },
    "version_major": 2,
    "version_minor": 0
   }
  }
 },
 "nbformat": 4,
 "nbformat_minor": 5
}
