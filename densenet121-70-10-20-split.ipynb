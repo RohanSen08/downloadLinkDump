{
 "cells": [
  {
   "cell_type": "code",
   "execution_count": 1,
   "id": "1162107b",
   "metadata": {
    "execution": {
     "iopub.execute_input": "2023-08-16T07:46:29.926010Z",
     "iopub.status.busy": "2023-08-16T07:46:29.925616Z",
     "iopub.status.idle": "2023-08-16T07:47:32.731718Z",
     "shell.execute_reply": "2023-08-16T07:47:32.730337Z"
    },
    "papermill": {
     "duration": 62.817225,
     "end_time": "2023-08-16T07:47:32.734471",
     "exception": false,
     "start_time": "2023-08-16T07:46:29.917246",
     "status": "completed"
    },
    "tags": []
   },
   "outputs": [
    {
     "name": "stdout",
     "output_type": "stream",
     "text": [
      "Collecting pretrainedmodels\r\n",
      "  Downloading pretrainedmodels-0.7.4.tar.gz (58 kB)\r\n",
      "\u001b[2K     \u001b[90m━━━━━━━━━━━━━━━━━━━━━━━━━━━━━━━━━━━━━━━━\u001b[0m \u001b[32m58.8/58.8 kB\u001b[0m \u001b[31m2.5 MB/s\u001b[0m eta \u001b[36m0:00:00\u001b[0m\r\n",
      "\u001b[?25h  Preparing metadata (setup.py) ... \u001b[?25l-\b \b\\\b \bdone\r\n",
      "\u001b[?25hRequirement already satisfied: torch in /opt/conda/lib/python3.10/site-packages (from pretrainedmodels) (2.0.0)\r\n",
      "Requirement already satisfied: torchvision in /opt/conda/lib/python3.10/site-packages (from pretrainedmodels) (0.15.1)\r\n",
      "Collecting munch (from pretrainedmodels)\r\n",
      "  Downloading munch-4.0.0-py2.py3-none-any.whl (9.9 kB)\r\n",
      "Requirement already satisfied: tqdm in /opt/conda/lib/python3.10/site-packages (from pretrainedmodels) (4.65.0)\r\n",
      "Requirement already satisfied: filelock in /opt/conda/lib/python3.10/site-packages (from torch->pretrainedmodels) (3.12.2)\r\n",
      "Requirement already satisfied: typing-extensions in /opt/conda/lib/python3.10/site-packages (from torch->pretrainedmodels) (4.6.3)\r\n",
      "Requirement already satisfied: sympy in /opt/conda/lib/python3.10/site-packages (from torch->pretrainedmodels) (1.12)\r\n",
      "Requirement already satisfied: networkx in /opt/conda/lib/python3.10/site-packages (from torch->pretrainedmodels) (3.1)\r\n",
      "Requirement already satisfied: jinja2 in /opt/conda/lib/python3.10/site-packages (from torch->pretrainedmodels) (3.1.2)\r\n",
      "Requirement already satisfied: numpy in /opt/conda/lib/python3.10/site-packages (from torchvision->pretrainedmodels) (1.23.5)\r\n",
      "Requirement already satisfied: requests in /opt/conda/lib/python3.10/site-packages (from torchvision->pretrainedmodels) (2.31.0)\r\n",
      "Requirement already satisfied: pillow!=8.3.*,>=5.3.0 in /opt/conda/lib/python3.10/site-packages (from torchvision->pretrainedmodels) (9.5.0)\r\n",
      "Requirement already satisfied: MarkupSafe>=2.0 in /opt/conda/lib/python3.10/site-packages (from jinja2->torch->pretrainedmodels) (2.1.3)\r\n",
      "Requirement already satisfied: charset-normalizer<4,>=2 in /opt/conda/lib/python3.10/site-packages (from requests->torchvision->pretrainedmodels) (3.1.0)\r\n",
      "Requirement already satisfied: idna<4,>=2.5 in /opt/conda/lib/python3.10/site-packages (from requests->torchvision->pretrainedmodels) (3.4)\r\n",
      "Requirement already satisfied: urllib3<3,>=1.21.1 in /opt/conda/lib/python3.10/site-packages (from requests->torchvision->pretrainedmodels) (1.26.15)\r\n",
      "Requirement already satisfied: certifi>=2017.4.17 in /opt/conda/lib/python3.10/site-packages (from requests->torchvision->pretrainedmodels) (2023.5.7)\r\n",
      "Requirement already satisfied: mpmath>=0.19 in /opt/conda/lib/python3.10/site-packages (from sympy->torch->pretrainedmodels) (1.3.0)\r\n",
      "Building wheels for collected packages: pretrainedmodels\r\n",
      "  Building wheel for pretrainedmodels (setup.py) ... \u001b[?25l-\b \b\\\b \b|\b \bdone\r\n",
      "\u001b[?25h  Created wheel for pretrainedmodels: filename=pretrainedmodels-0.7.4-py3-none-any.whl size=60966 sha256=ea6d76893577daf8f010f02b2301282a37509d3ec1258307d7c8002af23a11ff\r\n",
      "  Stored in directory: /root/.cache/pip/wheels/35/cb/a5/8f534c60142835bfc889f9a482e4a67e0b817032d9c6883b64\r\n",
      "Successfully built pretrainedmodels\r\n",
      "Installing collected packages: munch, pretrainedmodels\r\n",
      "Successfully installed munch-4.0.0 pretrainedmodels-0.7.4\r\n",
      "Requirement already satisfied: albumentations in /opt/conda/lib/python3.10/site-packages (1.3.1)\r\n",
      "Requirement already satisfied: numpy>=1.11.1 in /opt/conda/lib/python3.10/site-packages (from albumentations) (1.23.5)\r\n",
      "Requirement already satisfied: scipy>=1.1.0 in /opt/conda/lib/python3.10/site-packages (from albumentations) (1.11.1)\r\n",
      "Requirement already satisfied: scikit-image>=0.16.1 in /opt/conda/lib/python3.10/site-packages (from albumentations) (0.21.0)\r\n",
      "Requirement already satisfied: PyYAML in /opt/conda/lib/python3.10/site-packages (from albumentations) (6.0)\r\n",
      "Requirement already satisfied: qudida>=0.0.4 in /opt/conda/lib/python3.10/site-packages (from albumentations) (0.0.4)\r\n",
      "Requirement already satisfied: opencv-python-headless>=4.1.1 in /opt/conda/lib/python3.10/site-packages (from albumentations) (4.8.0.74)\r\n",
      "Requirement already satisfied: scikit-learn>=0.19.1 in /opt/conda/lib/python3.10/site-packages (from qudida>=0.0.4->albumentations) (1.2.2)\r\n",
      "Requirement already satisfied: typing-extensions in /opt/conda/lib/python3.10/site-packages (from qudida>=0.0.4->albumentations) (4.6.3)\r\n",
      "Requirement already satisfied: networkx>=2.8 in /opt/conda/lib/python3.10/site-packages (from scikit-image>=0.16.1->albumentations) (3.1)\r\n",
      "Requirement already satisfied: pillow>=9.0.1 in /opt/conda/lib/python3.10/site-packages (from scikit-image>=0.16.1->albumentations) (9.5.0)\r\n",
      "Requirement already satisfied: imageio>=2.27 in /opt/conda/lib/python3.10/site-packages (from scikit-image>=0.16.1->albumentations) (2.31.1)\r\n",
      "Requirement already satisfied: tifffile>=2022.8.12 in /opt/conda/lib/python3.10/site-packages (from scikit-image>=0.16.1->albumentations) (2023.4.12)\r\n",
      "Requirement already satisfied: PyWavelets>=1.1.1 in /opt/conda/lib/python3.10/site-packages (from scikit-image>=0.16.1->albumentations) (1.4.1)\r\n",
      "Requirement already satisfied: packaging>=21 in /opt/conda/lib/python3.10/site-packages (from scikit-image>=0.16.1->albumentations) (21.3)\r\n",
      "Requirement already satisfied: lazy_loader>=0.2 in /opt/conda/lib/python3.10/site-packages (from scikit-image>=0.16.1->albumentations) (0.2)\r\n",
      "Requirement already satisfied: pyparsing!=3.0.5,>=2.0.2 in /opt/conda/lib/python3.10/site-packages (from packaging>=21->scikit-image>=0.16.1->albumentations) (3.0.9)\r\n",
      "Requirement already satisfied: joblib>=1.1.1 in /opt/conda/lib/python3.10/site-packages (from scikit-learn>=0.19.1->qudida>=0.0.4->albumentations) (1.2.0)\r\n",
      "Requirement already satisfied: threadpoolctl>=2.0.0 in /opt/conda/lib/python3.10/site-packages (from scikit-learn>=0.19.1->qudida>=0.0.4->albumentations) (3.1.0)\r\n",
      "curl: /opt/conda/lib/libcurl.so.4: no version information available (required by curl)\r\n",
      "  % Total    % Received % Xferd  Average Speed   Time    Time     Time  Current\r\n",
      "                                 Dload  Upload   Total   Spent    Left  Speed\r\n",
      "100  6028  100  6028    0     0  38066      0 --:--:-- --:--:-- --:--:-- 38151\r\n",
      "Updating... This may take around 2 minutes.\r\n",
      "Found existing installation: torch 2.0.0\r\n",
      "Uninstalling torch-2.0.0:\r\n",
      "  Successfully uninstalled torch-2.0.0\r\n",
      "Found existing installation: torchvision 0.15.1\r\n",
      "Uninstalling torchvision-0.15.1:\r\n",
      "  Successfully uninstalled torchvision-0.15.1\r\n",
      "CommandException: No URLs matched: gs://tpu-pytorch/wheels/torch-nightly+20200515-cp310-cp310-linux_x86_64.whl\r\n",
      "CommandException: No URLs matched: gs://tpu-pytorch/wheels/torch_xla-nightly+20200515-cp310-cp310-linux_x86_64.whl\r\n",
      "CommandException: No URLs matched: gs://tpu-pytorch/wheels/torchvision-nightly+20200515-cp310-cp310-linux_x86_64.whl\r\n",
      "\u001b[33mWARNING: Requirement 'torch-nightly+20200515-cp310-cp310-linux_x86_64.whl' looks like a filename, but the file does not exist\u001b[0m\u001b[33m\r\n",
      "\u001b[0mProcessing ./torch-nightly+20200515-cp310-cp310-linux_x86_64.whl\r\n",
      "\u001b[31mERROR: Could not install packages due to an OSError: [Errno 2] No such file or directory: '/kaggle/working/torch-nightly+20200515-cp310-cp310-linux_x86_64.whl'\r\n",
      "\u001b[0m\u001b[31m\r\n",
      "\u001b[0m\u001b[33mWARNING: Requirement 'torch_xla-nightly+20200515-cp310-cp310-linux_x86_64.whl' looks like a filename, but the file does not exist\u001b[0m\u001b[33m\r\n",
      "\u001b[0mProcessing ./torch_xla-nightly+20200515-cp310-cp310-linux_x86_64.whl\r\n",
      "\u001b[31mERROR: Could not install packages due to an OSError: [Errno 2] No such file or directory: '/kaggle/working/torch_xla-nightly+20200515-cp310-cp310-linux_x86_64.whl'\r\n",
      "\u001b[0m\u001b[31m\r\n",
      "\u001b[0m\u001b[33mWARNING: Requirement 'torchvision-nightly+20200515-cp310-cp310-linux_x86_64.whl' looks like a filename, but the file does not exist\u001b[0m\u001b[33m\r\n",
      "\u001b[0mProcessing ./torchvision-nightly+20200515-cp310-cp310-linux_x86_64.whl\r\n",
      "\u001b[31mERROR: Could not install packages due to an OSError: [Errno 2] No such file or directory: '/kaggle/working/torchvision-nightly+20200515-cp310-cp310-linux_x86_64.whl'\r\n",
      "\u001b[0m\u001b[31m\r\n",
      "\r\n",
      "\r\n",
      "\r\n",
      "The following additional packages will be installed:\r\n",
      "  libomp5-14 libopenblas-pthread-dev\r\n",
      "The following NEW packages will be installed:\r\n",
      "  libomp5 libomp5-14 libopenblas-dev libopenblas-pthread-dev\r\n",
      "0 upgraded, 4 newly installed, 0 to remove and 13 not upgraded.\r\n",
      "Need to get 5044 kB of archives.\r\n",
      "After this operation, 63.7 MB of additional disk space will be used.\r\n",
      "Get:1 http://archive.ubuntu.com/ubuntu jammy/universe amd64 libomp5-14 amd64 1:14.0.0-1ubuntu1 [388 kB]\r\n",
      "Get:2 http://archive.ubuntu.com/ubuntu jammy/universe amd64 libopenblas-pthread-dev amd64 0.3.20+ds-1 [4634 kB]\r\n",
      "Get:3 http://archive.ubuntu.com/ubuntu jammy/universe amd64 libopenblas-dev amd64 0.3.20+ds-1 [18.6 kB]\r\n",
      "Get:4 http://archive.ubuntu.com/ubuntu jammy/universe amd64 libomp5 amd64 1:14.0-55~exp2 [3060 B]\r\n",
      "Fetched 5044 kB in 1s (3666 kB/s)\r\n",
      "Selecting previously unselected package libomp5-14:amd64.\r\n",
      "(Reading database ... 113701 files and directories currently installed.)\r\n",
      "Preparing to unpack .../libomp5-14_1%3a14.0.0-1ubuntu1_amd64.deb ...\r\n",
      "Unpacking libomp5-14:amd64 (1:14.0.0-1ubuntu1) ...\r\n",
      "Selecting previously unselected package libopenblas-pthread-dev:amd64.\r\n",
      "Preparing to unpack .../libopenblas-pthread-dev_0.3.20+ds-1_amd64.deb ...\r\n",
      "Unpacking libopenblas-pthread-dev:amd64 (0.3.20+ds-1) ...\r\n",
      "Selecting previously unselected package libopenblas-dev:amd64.\r\n",
      "Preparing to unpack .../libopenblas-dev_0.3.20+ds-1_amd64.deb ...\r\n",
      "Unpacking libopenblas-dev:amd64 (0.3.20+ds-1) ...\r\n",
      "Selecting previously unselected package libomp5:amd64.\r\n",
      "Preparing to unpack .../libomp5_1%3a14.0-55~exp2_amd64.deb ...\r\n",
      "Unpacking libomp5:amd64 (1:14.0-55~exp2) ...\r\n",
      "Setting up libopenblas-pthread-dev:amd64 (0.3.20+ds-1) ...\r\n",
      "update-alternatives: using /usr/lib/x86_64-linux-gnu/openblas-pthread/libblas.so to provide /usr/lib/x86_64-linux-gnu/libblas.so (libblas.so-x86_64-linux-gnu) in auto mode\r\n",
      "update-alternatives: using /usr/lib/x86_64-linux-gnu/openblas-pthread/liblapack.so to provide /usr/lib/x86_64-linux-gnu/liblapack.so (liblapack.so-x86_64-linux-gnu) in auto mode\r\n",
      "update-alternatives: using /usr/lib/x86_64-linux-gnu/openblas-pthread/libopenblas.so to provide /usr/lib/x86_64-linux-gnu/libopenblas.so (libopenblas.so-x86_64-linux-gnu) in auto mode\r\n",
      "Setting up libomp5-14:amd64 (1:14.0.0-1ubuntu1) ...\r\n",
      "Setting up libomp5:amd64 (1:14.0-55~exp2) ...\r\n",
      "Setting up libopenblas-dev:amd64 (0.3.20+ds-1) ...\r\n",
      "Processing triggers for libc-bin (2.35-0ubuntu3.1) ...\r\n"
     ]
    }
   ],
   "source": [
    "!pip install pretrainedmodels\n",
    "!pip install albumentations\n",
    "\n",
    "# for TPU\n",
    "!curl https://raw.githubusercontent.com/pytorch/xla/master/contrib/scripts/env-setup.py -o pytorch-xla-env-setup.py\n",
    "!python pytorch-xla-env-setup.py --apt-packages libomp5 libopenblas-dev"
   ]
  },
  {
   "cell_type": "code",
   "execution_count": 2,
   "id": "3d072cf7",
   "metadata": {
    "execution": {
     "iopub.execute_input": "2023-08-16T07:47:32.760432Z",
     "iopub.status.busy": "2023-08-16T07:47:32.759384Z",
     "iopub.status.idle": "2023-08-16T07:50:10.808367Z",
     "shell.execute_reply": "2023-08-16T07:50:10.807170Z"
    },
    "papermill": {
     "duration": 158.06427,
     "end_time": "2023-08-16T07:50:10.810865",
     "exception": false,
     "start_time": "2023-08-16T07:47:32.746595",
     "status": "completed"
    },
    "tags": []
   },
   "outputs": [
    {
     "name": "stdout",
     "output_type": "stream",
     "text": [
      "Requirement already satisfied: fastai in /opt/conda/lib/python3.10/site-packages (2.7.12)\r\n",
      "Requirement already satisfied: pip in /opt/conda/lib/python3.10/site-packages (from fastai) (23.1.2)\r\n",
      "Requirement already satisfied: packaging in /opt/conda/lib/python3.10/site-packages (from fastai) (21.3)\r\n",
      "Requirement already satisfied: fastdownload<2,>=0.0.5 in /opt/conda/lib/python3.10/site-packages (from fastai) (0.0.7)\r\n",
      "Requirement already satisfied: fastcore<1.6,>=1.5.29 in /opt/conda/lib/python3.10/site-packages (from fastai) (1.5.29)\r\n",
      "Collecting torchvision>=0.8.2 (from fastai)\r\n",
      "  Downloading torchvision-0.15.2-cp310-cp310-manylinux1_x86_64.whl (6.0 MB)\r\n",
      "\u001b[2K     \u001b[90m━━━━━━━━━━━━━━━━━━━━━━━━━━━━━━━━━━━━━━━━\u001b[0m \u001b[32m6.0/6.0 MB\u001b[0m \u001b[31m17.9 MB/s\u001b[0m eta \u001b[36m0:00:00\u001b[0m\r\n",
      "\u001b[?25hRequirement already satisfied: matplotlib in /opt/conda/lib/python3.10/site-packages (from fastai) (3.7.1)\r\n",
      "Requirement already satisfied: pandas in /opt/conda/lib/python3.10/site-packages (from fastai) (1.5.3)\r\n",
      "Requirement already satisfied: requests in /opt/conda/lib/python3.10/site-packages (from fastai) (2.31.0)\r\n",
      "Requirement already satisfied: pyyaml in /opt/conda/lib/python3.10/site-packages (from fastai) (6.0)\r\n",
      "Requirement already satisfied: fastprogress>=0.2.4 in /opt/conda/lib/python3.10/site-packages (from fastai) (1.0.3)\r\n",
      "Requirement already satisfied: pillow>6.0.0 in /opt/conda/lib/python3.10/site-packages (from fastai) (9.5.0)\r\n",
      "Requirement already satisfied: scikit-learn in /opt/conda/lib/python3.10/site-packages (from fastai) (1.2.2)\r\n",
      "Requirement already satisfied: scipy in /opt/conda/lib/python3.10/site-packages (from fastai) (1.11.1)\r\n",
      "Requirement already satisfied: spacy<4 in /opt/conda/lib/python3.10/site-packages (from fastai) (3.5.4)\r\n",
      "Collecting torch<2.1,>=1.7 (from fastai)\r\n",
      "  Downloading torch-2.0.1-cp310-cp310-manylinux1_x86_64.whl (619.9 MB)\r\n",
      "\u001b[2K     \u001b[90m━━━━━━━━━━━━━━━━━━━━━━━━━━━━━━━━━━━━━━━\u001b[0m \u001b[32m619.9/619.9 MB\u001b[0m \u001b[31m1.5 MB/s\u001b[0m eta \u001b[36m0:00:00\u001b[0m\r\n",
      "\u001b[?25hRequirement already satisfied: spacy-legacy<3.1.0,>=3.0.11 in /opt/conda/lib/python3.10/site-packages (from spacy<4->fastai) (3.0.12)\r\n",
      "Requirement already satisfied: spacy-loggers<2.0.0,>=1.0.0 in /opt/conda/lib/python3.10/site-packages (from spacy<4->fastai) (1.0.4)\r\n",
      "Requirement already satisfied: murmurhash<1.1.0,>=0.28.0 in /opt/conda/lib/python3.10/site-packages (from spacy<4->fastai) (1.0.9)\r\n",
      "Requirement already satisfied: cymem<2.1.0,>=2.0.2 in /opt/conda/lib/python3.10/site-packages (from spacy<4->fastai) (2.0.7)\r\n",
      "Requirement already satisfied: preshed<3.1.0,>=3.0.2 in /opt/conda/lib/python3.10/site-packages (from spacy<4->fastai) (3.0.8)\r\n",
      "Requirement already satisfied: thinc<8.2.0,>=8.1.8 in /opt/conda/lib/python3.10/site-packages (from spacy<4->fastai) (8.1.10)\r\n",
      "Requirement already satisfied: wasabi<1.2.0,>=0.9.1 in /opt/conda/lib/python3.10/site-packages (from spacy<4->fastai) (1.1.2)\r\n",
      "Requirement already satisfied: srsly<3.0.0,>=2.4.3 in /opt/conda/lib/python3.10/site-packages (from spacy<4->fastai) (2.4.6)\r\n",
      "Requirement already satisfied: catalogue<2.1.0,>=2.0.6 in /opt/conda/lib/python3.10/site-packages (from spacy<4->fastai) (2.0.8)\r\n",
      "Requirement already satisfied: typer<0.10.0,>=0.3.0 in /opt/conda/lib/python3.10/site-packages (from spacy<4->fastai) (0.9.0)\r\n",
      "Requirement already satisfied: pathy>=0.10.0 in /opt/conda/lib/python3.10/site-packages (from spacy<4->fastai) (0.10.1)\r\n",
      "Requirement already satisfied: smart-open<7.0.0,>=5.2.1 in /opt/conda/lib/python3.10/site-packages (from spacy<4->fastai) (6.3.0)\r\n",
      "Requirement already satisfied: tqdm<5.0.0,>=4.38.0 in /opt/conda/lib/python3.10/site-packages (from spacy<4->fastai) (4.65.0)\r\n",
      "Requirement already satisfied: numpy>=1.15.0 in /opt/conda/lib/python3.10/site-packages (from spacy<4->fastai) (1.23.5)\r\n",
      "Requirement already satisfied: pydantic!=1.8,!=1.8.1,<1.11.0,>=1.7.4 in /opt/conda/lib/python3.10/site-packages (from spacy<4->fastai) (1.10.10)\r\n",
      "Requirement already satisfied: jinja2 in /opt/conda/lib/python3.10/site-packages (from spacy<4->fastai) (3.1.2)\r\n",
      "Requirement already satisfied: setuptools in /opt/conda/lib/python3.10/site-packages (from spacy<4->fastai) (59.8.0)\r\n",
      "Requirement already satisfied: langcodes<4.0.0,>=3.2.0 in /opt/conda/lib/python3.10/site-packages (from spacy<4->fastai) (3.3.0)\r\n",
      "Requirement already satisfied: pyparsing!=3.0.5,>=2.0.2 in /opt/conda/lib/python3.10/site-packages (from packaging->fastai) (3.0.9)\r\n",
      "Requirement already satisfied: charset-normalizer<4,>=2 in /opt/conda/lib/python3.10/site-packages (from requests->fastai) (3.1.0)\r\n",
      "Requirement already satisfied: idna<4,>=2.5 in /opt/conda/lib/python3.10/site-packages (from requests->fastai) (3.4)\r\n",
      "Requirement already satisfied: urllib3<3,>=1.21.1 in /opt/conda/lib/python3.10/site-packages (from requests->fastai) (1.26.15)\r\n",
      "Requirement already satisfied: certifi>=2017.4.17 in /opt/conda/lib/python3.10/site-packages (from requests->fastai) (2023.5.7)\r\n",
      "Requirement already satisfied: filelock in /opt/conda/lib/python3.10/site-packages (from torch<2.1,>=1.7->fastai) (3.12.2)\r\n",
      "Requirement already satisfied: typing-extensions in /opt/conda/lib/python3.10/site-packages (from torch<2.1,>=1.7->fastai) (4.6.3)\r\n",
      "Requirement already satisfied: sympy in /opt/conda/lib/python3.10/site-packages (from torch<2.1,>=1.7->fastai) (1.12)\r\n",
      "Requirement already satisfied: networkx in /opt/conda/lib/python3.10/site-packages (from torch<2.1,>=1.7->fastai) (3.1)\r\n",
      "Collecting nvidia-cuda-nvrtc-cu11==11.7.99 (from torch<2.1,>=1.7->fastai)\r\n",
      "  Downloading nvidia_cuda_nvrtc_cu11-11.7.99-2-py3-none-manylinux1_x86_64.whl (21.0 MB)\r\n",
      "\u001b[2K     \u001b[90m━━━━━━━━━━━━━━━━━━━━━━━━━━━━━━━━━━━━━━━━\u001b[0m \u001b[32m21.0/21.0 MB\u001b[0m \u001b[31m60.1 MB/s\u001b[0m eta \u001b[36m0:00:00\u001b[0m\r\n",
      "\u001b[?25hCollecting nvidia-cuda-runtime-cu11==11.7.99 (from torch<2.1,>=1.7->fastai)\r\n",
      "  Downloading nvidia_cuda_runtime_cu11-11.7.99-py3-none-manylinux1_x86_64.whl (849 kB)\r\n",
      "\u001b[2K     \u001b[90m━━━━━━━━━━━━━━━━━━━━━━━━━━━━━━━━━━━━━━\u001b[0m \u001b[32m849.3/849.3 kB\u001b[0m \u001b[31m41.4 MB/s\u001b[0m eta \u001b[36m0:00:00\u001b[0m\r\n",
      "\u001b[?25hCollecting nvidia-cuda-cupti-cu11==11.7.101 (from torch<2.1,>=1.7->fastai)\r\n",
      "  Downloading nvidia_cuda_cupti_cu11-11.7.101-py3-none-manylinux1_x86_64.whl (11.8 MB)\r\n",
      "\u001b[2K     \u001b[90m━━━━━━━━━━━━━━━━━━━━━━━━━━━━━━━━━━━━━━━━\u001b[0m \u001b[32m11.8/11.8 MB\u001b[0m \u001b[31m82.2 MB/s\u001b[0m eta \u001b[36m0:00:00\u001b[0m\r\n",
      "\u001b[?25hCollecting nvidia-cudnn-cu11==8.5.0.96 (from torch<2.1,>=1.7->fastai)\r\n",
      "  Downloading nvidia_cudnn_cu11-8.5.0.96-2-py3-none-manylinux1_x86_64.whl (557.1 MB)\r\n",
      "\u001b[2K     \u001b[90m━━━━━━━━━━━━━━━━━━━━━━━━━━━━━━━━━━━━━━━\u001b[0m \u001b[32m557.1/557.1 MB\u001b[0m \u001b[31m1.7 MB/s\u001b[0m eta \u001b[36m0:00:00\u001b[0m\r\n",
      "\u001b[?25hCollecting nvidia-cublas-cu11==11.10.3.66 (from torch<2.1,>=1.7->fastai)\r\n",
      "  Downloading nvidia_cublas_cu11-11.10.3.66-py3-none-manylinux1_x86_64.whl (317.1 MB)\r\n",
      "\u001b[2K     \u001b[90m━━━━━━━━━━━━━━━━━━━━━━━━━━━━━━━━━━━━━━━\u001b[0m \u001b[32m317.1/317.1 MB\u001b[0m \u001b[31m2.3 MB/s\u001b[0m eta \u001b[36m0:00:00\u001b[0m\r\n",
      "\u001b[?25hCollecting nvidia-cufft-cu11==10.9.0.58 (from torch<2.1,>=1.7->fastai)\r\n",
      "  Downloading nvidia_cufft_cu11-10.9.0.58-py3-none-manylinux1_x86_64.whl (168.4 MB)\r\n",
      "\u001b[2K     \u001b[90m━━━━━━━━━━━━━━━━━━━━━━━━━━━━━━━━━━━━━━━\u001b[0m \u001b[32m168.4/168.4 MB\u001b[0m \u001b[31m7.4 MB/s\u001b[0m eta \u001b[36m0:00:00\u001b[0m\r\n",
      "\u001b[?25hCollecting nvidia-curand-cu11==10.2.10.91 (from torch<2.1,>=1.7->fastai)\r\n",
      "  Downloading nvidia_curand_cu11-10.2.10.91-py3-none-manylinux1_x86_64.whl (54.6 MB)\r\n",
      "\u001b[2K     \u001b[90m━━━━━━━━━━━━━━━━━━━━━━━━━━━━━━━━━━━━━━━━\u001b[0m \u001b[32m54.6/54.6 MB\u001b[0m \u001b[31m22.5 MB/s\u001b[0m eta \u001b[36m0:00:00\u001b[0m\r\n",
      "\u001b[?25hCollecting nvidia-cusolver-cu11==11.4.0.1 (from torch<2.1,>=1.7->fastai)\r\n",
      "  Downloading nvidia_cusolver_cu11-11.4.0.1-2-py3-none-manylinux1_x86_64.whl (102.6 MB)\r\n",
      "\u001b[2K     \u001b[90m━━━━━━━━━━━━━━━━━━━━━━━━━━━━━━━━━━━━━━\u001b[0m \u001b[32m102.6/102.6 MB\u001b[0m \u001b[31m11.8 MB/s\u001b[0m eta \u001b[36m0:00:00\u001b[0m\r\n",
      "\u001b[?25hCollecting nvidia-cusparse-cu11==11.7.4.91 (from torch<2.1,>=1.7->fastai)\r\n",
      "  Downloading nvidia_cusparse_cu11-11.7.4.91-py3-none-manylinux1_x86_64.whl (173.2 MB)\r\n",
      "\u001b[2K     \u001b[90m━━━━━━━━━━━━━━━━━━━━━━━━━━━━━━━━━━━━━━━\u001b[0m \u001b[32m173.2/173.2 MB\u001b[0m \u001b[31m6.9 MB/s\u001b[0m eta \u001b[36m0:00:00\u001b[0m\r\n",
      "\u001b[?25hCollecting nvidia-nccl-cu11==2.14.3 (from torch<2.1,>=1.7->fastai)\r\n",
      "  Downloading nvidia_nccl_cu11-2.14.3-py3-none-manylinux1_x86_64.whl (177.1 MB)\r\n",
      "\u001b[2K     \u001b[90m━━━━━━━━━━━━━━━━━━━━━━━━━━━━━━━━━━━━━━━\u001b[0m \u001b[32m177.1/177.1 MB\u001b[0m \u001b[31m6.7 MB/s\u001b[0m eta \u001b[36m0:00:00\u001b[0m\r\n",
      "\u001b[?25hCollecting nvidia-nvtx-cu11==11.7.91 (from torch<2.1,>=1.7->fastai)\r\n",
      "  Downloading nvidia_nvtx_cu11-11.7.91-py3-none-manylinux1_x86_64.whl (98 kB)\r\n",
      "\u001b[2K     \u001b[90m━━━━━━━━━━━━━━━━━━━━━━━━━━━━━━━━━━━━━━━━\u001b[0m \u001b[32m98.6/98.6 kB\u001b[0m \u001b[31m10.6 MB/s\u001b[0m eta \u001b[36m0:00:00\u001b[0m\r\n",
      "\u001b[?25hCollecting triton==2.0.0 (from torch<2.1,>=1.7->fastai)\r\n",
      "  Downloading triton-2.0.0-1-cp310-cp310-manylinux2014_x86_64.manylinux_2_17_x86_64.whl (63.3 MB)\r\n",
      "\u001b[2K     \u001b[90m━━━━━━━━━━━━━━━━━━━━━━━━━━━━━━━━━━━━━━━━\u001b[0m \u001b[32m63.3/63.3 MB\u001b[0m \u001b[31m6.1 MB/s\u001b[0m eta \u001b[36m0:00:00\u001b[0m\r\n",
      "\u001b[?25hRequirement already satisfied: wheel in /opt/conda/lib/python3.10/site-packages (from nvidia-cublas-cu11==11.10.3.66->torch<2.1,>=1.7->fastai) (0.40.0)\r\n",
      "Collecting cmake (from triton==2.0.0->torch<2.1,>=1.7->fastai)\r\n",
      "  Downloading cmake-3.27.2-py2.py3-none-manylinux2014_x86_64.manylinux_2_17_x86_64.whl (26.1 MB)\r\n",
      "\u001b[2K     \u001b[90m━━━━━━━━━━━━━━━━━━━━━━━━━━━━━━━━━━━━━━━━\u001b[0m \u001b[32m26.1/26.1 MB\u001b[0m \u001b[31m11.6 MB/s\u001b[0m eta \u001b[36m0:00:00\u001b[0m\r\n",
      "\u001b[?25hCollecting lit (from triton==2.0.0->torch<2.1,>=1.7->fastai)\r\n",
      "  Downloading lit-16.0.6.tar.gz (153 kB)\r\n",
      "\u001b[2K     \u001b[90m━━━━━━━━━━━━━━━━━━━━━━━━━━━━━━━━━━━━━━\u001b[0m \u001b[32m153.7/153.7 kB\u001b[0m \u001b[31m15.0 MB/s\u001b[0m eta \u001b[36m0:00:00\u001b[0m\r\n",
      "\u001b[?25h  Installing build dependencies ... \u001b[?25l-\b \b\\\b \b|\b \bdone\r\n",
      "\u001b[?25h  Getting requirements to build wheel ... \u001b[?25l-\b \bdone\r\n",
      "\u001b[?25h  Installing backend dependencies ... \u001b[?25l-\b \b\\\b \bdone\r\n",
      "\u001b[?25h  Preparing metadata (pyproject.toml) ... \u001b[?25l-\b \bdone\r\n",
      "\u001b[?25hRequirement already satisfied: contourpy>=1.0.1 in /opt/conda/lib/python3.10/site-packages (from matplotlib->fastai) (1.1.0)\r\n",
      "Requirement already satisfied: cycler>=0.10 in /opt/conda/lib/python3.10/site-packages (from matplotlib->fastai) (0.11.0)\r\n",
      "Requirement already satisfied: fonttools>=4.22.0 in /opt/conda/lib/python3.10/site-packages (from matplotlib->fastai) (4.40.0)\r\n",
      "Requirement already satisfied: kiwisolver>=1.0.1 in /opt/conda/lib/python3.10/site-packages (from matplotlib->fastai) (1.4.4)\r\n",
      "Requirement already satisfied: python-dateutil>=2.7 in /opt/conda/lib/python3.10/site-packages (from matplotlib->fastai) (2.8.2)\r\n",
      "Requirement already satisfied: pytz>=2020.1 in /opt/conda/lib/python3.10/site-packages (from pandas->fastai) (2023.3)\r\n",
      "Requirement already satisfied: joblib>=1.1.1 in /opt/conda/lib/python3.10/site-packages (from scikit-learn->fastai) (1.2.0)\r\n",
      "Requirement already satisfied: threadpoolctl>=2.0.0 in /opt/conda/lib/python3.10/site-packages (from scikit-learn->fastai) (3.1.0)\r\n",
      "Requirement already satisfied: six>=1.5 in /opt/conda/lib/python3.10/site-packages (from python-dateutil>=2.7->matplotlib->fastai) (1.16.0)\r\n",
      "Requirement already satisfied: blis<0.8.0,>=0.7.8 in /opt/conda/lib/python3.10/site-packages (from thinc<8.2.0,>=8.1.8->spacy<4->fastai) (0.7.9)\r\n",
      "Requirement already satisfied: confection<1.0.0,>=0.0.1 in /opt/conda/lib/python3.10/site-packages (from thinc<8.2.0,>=8.1.8->spacy<4->fastai) (0.1.0)\r\n",
      "Requirement already satisfied: click<9.0.0,>=7.1.1 in /opt/conda/lib/python3.10/site-packages (from typer<0.10.0,>=0.3.0->spacy<4->fastai) (8.1.3)\r\n",
      "Requirement already satisfied: MarkupSafe>=2.0 in /opt/conda/lib/python3.10/site-packages (from jinja2->spacy<4->fastai) (2.1.3)\r\n",
      "Requirement already satisfied: mpmath>=0.19 in /opt/conda/lib/python3.10/site-packages (from sympy->torch<2.1,>=1.7->fastai) (1.3.0)\r\n",
      "Building wheels for collected packages: lit\r\n",
      "  Building wheel for lit (pyproject.toml) ... \u001b[?25l-\b \b\\\b \bdone\r\n",
      "\u001b[?25h  Created wheel for lit: filename=lit-16.0.6-py3-none-any.whl size=93583 sha256=768ba12bce9228af7592b715cd109bc22a995438c31faa27884867397f95cbad\r\n",
      "  Stored in directory: /root/.cache/pip/wheels/14/f9/07/bb2308587bc2f57158f905a2325f6a89a2befa7437b2d7e137\r\n",
      "Successfully built lit\r\n",
      "Installing collected packages: lit, cmake, nvidia-nvtx-cu11, nvidia-nccl-cu11, nvidia-cusparse-cu11, nvidia-curand-cu11, nvidia-cufft-cu11, nvidia-cuda-runtime-cu11, nvidia-cuda-nvrtc-cu11, nvidia-cuda-cupti-cu11, nvidia-cublas-cu11, nvidia-cusolver-cu11, nvidia-cudnn-cu11, triton, torch, torchvision\r\n",
      "\u001b[31mERROR: pip's dependency resolver does not currently take into account all the packages that are installed. This behaviour is the source of the following dependency conflicts.\r\n",
      "torchdata 0.6.0 requires torch==2.0.0, but you have torch 2.0.1 which is incompatible.\u001b[0m\u001b[31m\r\n",
      "\u001b[0mSuccessfully installed cmake-3.27.2 lit-16.0.6 nvidia-cublas-cu11-11.10.3.66 nvidia-cuda-cupti-cu11-11.7.101 nvidia-cuda-nvrtc-cu11-11.7.99 nvidia-cuda-runtime-cu11-11.7.99 nvidia-cudnn-cu11-8.5.0.96 nvidia-cufft-cu11-10.9.0.58 nvidia-curand-cu11-10.2.10.91 nvidia-cusolver-cu11-11.4.0.1 nvidia-cusparse-cu11-11.7.4.91 nvidia-nccl-cu11-2.14.3 nvidia-nvtx-cu11-11.7.91 torch-2.0.1 torchvision-0.15.2 triton-2.0.0\r\n",
      "Requirement already satisfied: tqdm in /opt/conda/lib/python3.10/site-packages (4.65.0)\r\n",
      "\u001b[31mERROR: Could not find a version that satisfies the requirement glob (from versions: none)\u001b[0m\u001b[31m\r\n",
      "\u001b[0m\u001b[31mERROR: No matching distribution found for glob\u001b[0m\u001b[31m\r\n",
      "\u001b[0m"
     ]
    }
   ],
   "source": [
    "!pip install fastai\n",
    "!pip install tqdm \n",
    "!pip install glob"
   ]
  },
  {
   "cell_type": "code",
   "execution_count": 3,
   "id": "4834dad4",
   "metadata": {
    "_cell_guid": "55935d31-2694-45da-a34a-94261649439c",
    "_uuid": "e97fa043-02da-4543-b1ac-513ffc44dec2",
    "collapsed": false,
    "execution": {
     "iopub.execute_input": "2023-08-16T07:50:10.962180Z",
     "iopub.status.busy": "2023-08-16T07:50:10.961201Z",
     "iopub.status.idle": "2023-08-16T07:50:15.886697Z",
     "shell.execute_reply": "2023-08-16T07:50:15.882496Z"
    },
    "jupyter": {
     "outputs_hidden": false
    },
    "papermill": {
     "duration": 5.005047,
     "end_time": "2023-08-16T07:50:15.890976",
     "exception": false,
     "start_time": "2023-08-16T07:50:10.885929",
     "status": "completed"
    },
    "tags": []
   },
   "outputs": [
    {
     "name": "stderr",
     "output_type": "stream",
     "text": [
      "/opt/conda/lib/python3.10/site-packages/scipy/__init__.py:146: UserWarning: A NumPy version >=1.16.5 and <1.23.0 is required for this version of SciPy (detected version 1.23.5\n",
      "  warnings.warn(f\"A NumPy version >={np_minversion} and <{np_maxversion}\"\n"
     ]
    }
   ],
   "source": [
    "import fastai\n",
    "from fastai.vision.all import *\n",
    "from tqdm import tqdm\n",
    "from glob import glob"
   ]
  },
  {
   "cell_type": "code",
   "execution_count": 4,
   "id": "52c2f38e",
   "metadata": {
    "_cell_guid": "738a2e57-62b1-4cd1-970c-e9505a16a5b5",
    "_uuid": "08422815-d5d5-4f12-93bf-58e031e70dda",
    "collapsed": false,
    "execution": {
     "iopub.execute_input": "2023-08-16T07:50:16.058213Z",
     "iopub.status.busy": "2023-08-16T07:50:16.057759Z",
     "iopub.status.idle": "2023-08-16T07:50:16.071448Z",
     "shell.execute_reply": "2023-08-16T07:50:16.070355Z"
    },
    "jupyter": {
     "outputs_hidden": false
    },
    "papermill": {
     "duration": 0.11128,
     "end_time": "2023-08-16T07:50:16.078621",
     "exception": false,
     "start_time": "2023-08-16T07:50:15.967341",
     "status": "completed"
    },
    "tags": []
   },
   "outputs": [],
   "source": [
    "SEED = 85\n",
    "def seed_everything(seed):\n",
    "    random.seed(seed)\n",
    "    os.environ[\"PYTHONHASHSEED\"] = str(seed)\n",
    "    np.random.seed(seed)\n",
    "    torch.manual_seed(seed)\n",
    "    torch.cuda.manual_seed(seed)\n",
    "    torch.backends.cudnn.deterministic = True\n",
    "    torch.backends.cudnn.benchmark = False\n",
    "\n",
    "seed_everything(SEED)"
   ]
  },
  {
   "cell_type": "code",
   "execution_count": 5,
   "id": "4bfab675",
   "metadata": {
    "_cell_guid": "4e4d9570-14a8-46bd-a77b-4c59057d578e",
    "_uuid": "a146646c-ca7b-4441-869a-7407da42f4b0",
    "collapsed": false,
    "execution": {
     "iopub.execute_input": "2023-08-16T07:50:16.253352Z",
     "iopub.status.busy": "2023-08-16T07:50:16.253009Z",
     "iopub.status.idle": "2023-08-16T07:50:17.679042Z",
     "shell.execute_reply": "2023-08-16T07:50:17.678006Z"
    },
    "jupyter": {
     "outputs_hidden": false
    },
    "papermill": {
     "duration": 1.504421,
     "end_time": "2023-08-16T07:50:17.681186",
     "exception": false,
     "start_time": "2023-08-16T07:50:16.176765",
     "status": "completed"
    },
    "tags": []
   },
   "outputs": [
    {
     "name": "stderr",
     "output_type": "stream",
     "text": [
      "100%|██████████| 14/14 [00:01<00:00, 13.83it/s]\n"
     ]
    }
   ],
   "source": [
    "labels_train_val = pd.read_csv('/kaggle/input/data/train_val_list.txt')\n",
    "labels_train_val.columns = ['Image_Index']\n",
    "labels_test = pd.read_csv('/kaggle/input/data/test_list.txt')\n",
    "labels_test.columns = ['Image_Index']\n",
    "disease_labels = ['Atelectasis', 'Consolidation', 'Infiltration', 'Pneumothorax', 'Edema', 'Emphysema', 'Fibrosis', 'Effusion', 'Pneumonia', 'Pleural_Thickening',\n",
    "'Cardiomegaly', 'Nodule', 'Mass', 'Hernia']\n",
    "# NIH Dataset Labels CSV File \n",
    "labels_df = pd.read_csv('/kaggle/input/data/Data_Entry_2017.csv')\n",
    "labels_df.columns = ['Image_Index', 'Finding_Labels', 'Follow_Up_#', 'Patient_ID',\n",
    "                  'Patient_Age', 'Patient_Gender', 'View_Position',\n",
    "                  'Original_Image_Width', 'Original_Image_Height',\n",
    "                  'Original_Image_Pixel_Spacing_X',\n",
    "                  'Original_Image_Pixel_Spacing_Y', 'dfd']\n",
    "# One hot encoding\n",
    "for diseases in tqdm(disease_labels): \n",
    "    labels_df[diseases] = labels_df['Finding_Labels'].map(lambda result: 1 if diseases in result else 0)\n",
    "\n",
    "# labels_df.to_csv('/kaggle/working/newData.csv')\n",
    "# labels_df=labels_df[labels_df.Finding_Labels != 'No Finding']\n",
    "# #labels_df.head(3)"
   ]
  },
  {
   "cell_type": "code",
   "execution_count": 6,
   "id": "d50b5e7e",
   "metadata": {
    "_cell_guid": "e00c2fca-fb51-4231-a493-2b62f43b83eb",
    "_uuid": "5a632ffd-8096-481a-bc78-4192c1663625",
    "collapsed": false,
    "execution": {
     "iopub.execute_input": "2023-08-16T07:50:17.836944Z",
     "iopub.status.busy": "2023-08-16T07:50:17.835354Z",
     "iopub.status.idle": "2023-08-16T07:50:20.603735Z",
     "shell.execute_reply": "2023-08-16T07:50:20.602769Z"
    },
    "jupyter": {
     "outputs_hidden": false
    },
    "papermill": {
     "duration": 2.848067,
     "end_time": "2023-08-16T07:50:20.606358",
     "exception": false,
     "start_time": "2023-08-16T07:50:17.758291",
     "status": "completed"
    },
    "tags": []
   },
   "outputs": [
    {
     "data": {
      "text/html": [
       "<div>\n",
       "<style scoped>\n",
       "    .dataframe tbody tr th:only-of-type {\n",
       "        vertical-align: middle;\n",
       "    }\n",
       "\n",
       "    .dataframe tbody tr th {\n",
       "        vertical-align: top;\n",
       "    }\n",
       "\n",
       "    .dataframe thead th {\n",
       "        text-align: right;\n",
       "    }\n",
       "</style>\n",
       "<table border=\"1\" class=\"dataframe\">\n",
       "  <thead>\n",
       "    <tr style=\"text-align: right;\">\n",
       "      <th></th>\n",
       "      <th>Image_Index</th>\n",
       "      <th>Finding_Labels</th>\n",
       "      <th>Follow_Up_#</th>\n",
       "      <th>Patient_ID</th>\n",
       "      <th>Patient_Age</th>\n",
       "      <th>Patient_Gender</th>\n",
       "      <th>View_Position</th>\n",
       "      <th>Original_Image_Width</th>\n",
       "      <th>Original_Image_Height</th>\n",
       "      <th>Original_Image_Pixel_Spacing_X</th>\n",
       "      <th>...</th>\n",
       "      <th>Emphysema</th>\n",
       "      <th>Fibrosis</th>\n",
       "      <th>Effusion</th>\n",
       "      <th>Pneumonia</th>\n",
       "      <th>Pleural_Thickening</th>\n",
       "      <th>Cardiomegaly</th>\n",
       "      <th>Nodule</th>\n",
       "      <th>Mass</th>\n",
       "      <th>Hernia</th>\n",
       "      <th>Paths</th>\n",
       "    </tr>\n",
       "  </thead>\n",
       "  <tbody>\n",
       "    <tr>\n",
       "      <th>0</th>\n",
       "      <td>00000001_000.png</td>\n",
       "      <td>[Cardiomegaly]</td>\n",
       "      <td>0</td>\n",
       "      <td>1</td>\n",
       "      <td>58</td>\n",
       "      <td>M</td>\n",
       "      <td>PA</td>\n",
       "      <td>2682</td>\n",
       "      <td>2749</td>\n",
       "      <td>0.143</td>\n",
       "      <td>...</td>\n",
       "      <td>0</td>\n",
       "      <td>0</td>\n",
       "      <td>0</td>\n",
       "      <td>0</td>\n",
       "      <td>0</td>\n",
       "      <td>1</td>\n",
       "      <td>0</td>\n",
       "      <td>0</td>\n",
       "      <td>0</td>\n",
       "      <td>/kaggle/input/data/images_001/images/00000001_000.png</td>\n",
       "    </tr>\n",
       "    <tr>\n",
       "      <th>1</th>\n",
       "      <td>00000001_001.png</td>\n",
       "      <td>[Cardiomegaly, Emphysema]</td>\n",
       "      <td>1</td>\n",
       "      <td>1</td>\n",
       "      <td>58</td>\n",
       "      <td>M</td>\n",
       "      <td>PA</td>\n",
       "      <td>2894</td>\n",
       "      <td>2729</td>\n",
       "      <td>0.143</td>\n",
       "      <td>...</td>\n",
       "      <td>1</td>\n",
       "      <td>0</td>\n",
       "      <td>0</td>\n",
       "      <td>0</td>\n",
       "      <td>0</td>\n",
       "      <td>1</td>\n",
       "      <td>0</td>\n",
       "      <td>0</td>\n",
       "      <td>0</td>\n",
       "      <td>/kaggle/input/data/images_001/images/00000001_001.png</td>\n",
       "    </tr>\n",
       "    <tr>\n",
       "      <th>2</th>\n",
       "      <td>00000001_002.png</td>\n",
       "      <td>[Cardiomegaly, Effusion]</td>\n",
       "      <td>2</td>\n",
       "      <td>1</td>\n",
       "      <td>58</td>\n",
       "      <td>M</td>\n",
       "      <td>PA</td>\n",
       "      <td>2500</td>\n",
       "      <td>2048</td>\n",
       "      <td>0.168</td>\n",
       "      <td>...</td>\n",
       "      <td>0</td>\n",
       "      <td>0</td>\n",
       "      <td>1</td>\n",
       "      <td>0</td>\n",
       "      <td>0</td>\n",
       "      <td>1</td>\n",
       "      <td>0</td>\n",
       "      <td>0</td>\n",
       "      <td>0</td>\n",
       "      <td>/kaggle/input/data/images_001/images/00000001_002.png</td>\n",
       "    </tr>\n",
       "    <tr>\n",
       "      <th>3</th>\n",
       "      <td>00000002_000.png</td>\n",
       "      <td>[No Finding]</td>\n",
       "      <td>0</td>\n",
       "      <td>2</td>\n",
       "      <td>81</td>\n",
       "      <td>M</td>\n",
       "      <td>PA</td>\n",
       "      <td>2500</td>\n",
       "      <td>2048</td>\n",
       "      <td>0.171</td>\n",
       "      <td>...</td>\n",
       "      <td>0</td>\n",
       "      <td>0</td>\n",
       "      <td>0</td>\n",
       "      <td>0</td>\n",
       "      <td>0</td>\n",
       "      <td>0</td>\n",
       "      <td>0</td>\n",
       "      <td>0</td>\n",
       "      <td>0</td>\n",
       "      <td>/kaggle/input/data/images_001/images/00000002_000.png</td>\n",
       "    </tr>\n",
       "    <tr>\n",
       "      <th>4</th>\n",
       "      <td>00000003_000.png</td>\n",
       "      <td>[Hernia]</td>\n",
       "      <td>0</td>\n",
       "      <td>3</td>\n",
       "      <td>81</td>\n",
       "      <td>F</td>\n",
       "      <td>PA</td>\n",
       "      <td>2582</td>\n",
       "      <td>2991</td>\n",
       "      <td>0.143</td>\n",
       "      <td>...</td>\n",
       "      <td>0</td>\n",
       "      <td>0</td>\n",
       "      <td>0</td>\n",
       "      <td>0</td>\n",
       "      <td>0</td>\n",
       "      <td>0</td>\n",
       "      <td>0</td>\n",
       "      <td>0</td>\n",
       "      <td>1</td>\n",
       "      <td>/kaggle/input/data/images_001/images/00000003_000.png</td>\n",
       "    </tr>\n",
       "  </tbody>\n",
       "</table>\n",
       "<p>5 rows × 27 columns</p>\n",
       "</div>"
      ],
      "text/plain": [
       "        Image_Index             Finding_Labels  Follow_Up_#  Patient_ID  \\\n",
       "0  00000001_000.png             [Cardiomegaly]            0           1   \n",
       "1  00000001_001.png  [Cardiomegaly, Emphysema]            1           1   \n",
       "2  00000001_002.png   [Cardiomegaly, Effusion]            2           1   \n",
       "3  00000002_000.png               [No Finding]            0           2   \n",
       "4  00000003_000.png                   [Hernia]            0           3   \n",
       "\n",
       "   Patient_Age Patient_Gender View_Position  Original_Image_Width  \\\n",
       "0           58              M            PA                  2682   \n",
       "1           58              M            PA                  2894   \n",
       "2           58              M            PA                  2500   \n",
       "3           81              M            PA                  2500   \n",
       "4           81              F            PA                  2582   \n",
       "\n",
       "   Original_Image_Height  Original_Image_Pixel_Spacing_X  ...  Emphysema  \\\n",
       "0                   2749                           0.143  ...          0   \n",
       "1                   2729                           0.143  ...          1   \n",
       "2                   2048                           0.168  ...          0   \n",
       "3                   2048                           0.171  ...          0   \n",
       "4                   2991                           0.143  ...          0   \n",
       "\n",
       "   Fibrosis  Effusion  Pneumonia  Pleural_Thickening  Cardiomegaly  Nodule  \\\n",
       "0         0         0          0                   0             1       0   \n",
       "1         0         0          0                   0             1       0   \n",
       "2         0         1          0                   0             1       0   \n",
       "3         0         0          0                   0             0       0   \n",
       "4         0         0          0                   0             0       0   \n",
       "\n",
       "   Mass  Hernia                                                  Paths  \n",
       "0     0       0  /kaggle/input/data/images_001/images/00000001_000.png  \n",
       "1     0       0  /kaggle/input/data/images_001/images/00000001_001.png  \n",
       "2     0       0  /kaggle/input/data/images_001/images/00000001_002.png  \n",
       "3     0       0  /kaggle/input/data/images_001/images/00000002_000.png  \n",
       "4     0       1  /kaggle/input/data/images_001/images/00000003_000.png  \n",
       "\n",
       "[5 rows x 27 columns]"
      ]
     },
     "execution_count": 6,
     "metadata": {},
     "output_type": "execute_result"
    }
   ],
   "source": [
    "\n",
    "labels_df['Finding_Labels'] = labels_df['Finding_Labels'].apply(lambda s: [l for l in str(s).split('|')])\n",
    "\n",
    "num_glob = glob('/kaggle/input/data/*/images/*.png')\n",
    "img_path = {os.path.basename(x): x for x in num_glob}\n",
    "\n",
    "labels_df['Paths'] = labels_df['Image_Index'].map(img_path.get)\n",
    "labels_df.head()"
   ]
  },
  {
   "cell_type": "code",
   "execution_count": 7,
   "id": "84787736",
   "metadata": {
    "_cell_guid": "1052fa10-fd86-4042-ae7b-ec09fbba0d86",
    "_uuid": "ba306f3c-3183-4087-8143-e385f83a22df",
    "collapsed": false,
    "execution": {
     "iopub.execute_input": "2023-08-16T07:50:20.764512Z",
     "iopub.status.busy": "2023-08-16T07:50:20.764135Z",
     "iopub.status.idle": "2023-08-16T07:50:20.773774Z",
     "shell.execute_reply": "2023-08-16T07:50:20.772699Z"
    },
    "jupyter": {
     "outputs_hidden": false
    },
    "papermill": {
     "duration": 0.090764,
     "end_time": "2023-08-16T07:50:20.775779",
     "exception": false,
     "start_time": "2023-08-16T07:50:20.685015",
     "status": "completed"
    },
    "tags": []
   },
   "outputs": [
    {
     "data": {
      "text/plain": [
       "30805"
      ]
     },
     "execution_count": 7,
     "metadata": {},
     "output_type": "execute_result"
    }
   ],
   "source": [
    "unique_patients = np.unique(labels_df['Patient_ID'])\n",
    "len(unique_patients)"
   ]
  },
  {
   "cell_type": "code",
   "execution_count": 8,
   "id": "a06079da",
   "metadata": {
    "_cell_guid": "8ff1d9c5-1b3e-4747-8716-f0c811db89d8",
    "_uuid": "31d9e8b0-d79f-4b79-8f89-2bfaa6e7ab99",
    "collapsed": false,
    "execution": {
     "iopub.execute_input": "2023-08-16T07:50:20.928971Z",
     "iopub.status.busy": "2023-08-16T07:50:20.928173Z",
     "iopub.status.idle": "2023-08-16T07:50:20.941899Z",
     "shell.execute_reply": "2023-08-16T07:50:20.940926Z"
    },
    "jupyter": {
     "outputs_hidden": false
    },
    "papermill": {
     "duration": 0.091971,
     "end_time": "2023-08-16T07:50:20.943830",
     "exception": false,
     "start_time": "2023-08-16T07:50:20.851859",
     "status": "completed"
    },
    "tags": []
   },
   "outputs": [
    {
     "data": {
      "text/plain": [
       "24644"
      ]
     },
     "execution_count": 8,
     "metadata": {},
     "output_type": "execute_result"
    }
   ],
   "source": [
    "from sklearn.model_selection import train_test_split\n",
    "\n",
    "# train-70\n",
    "# val-10\n",
    "# test-20\n",
    "train_val_df_patients, test_df_patients = train_test_split(unique_patients, \n",
    "                                   test_size = 0.2,\n",
    "                                   random_state = SEED,\n",
    "                                    shuffle= True\n",
    "                                   )\n",
    "len(train_val_df_patients)"
   ]
  },
  {
   "cell_type": "code",
   "execution_count": 9,
   "id": "c296b4a1",
   "metadata": {
    "_cell_guid": "dc7d2e26-3cd9-4631-9fc5-62e3b856893a",
    "_uuid": "5060ce8a-6576-434f-93f5-927f625d461a",
    "collapsed": false,
    "execution": {
     "iopub.execute_input": "2023-08-16T07:50:21.101952Z",
     "iopub.status.busy": "2023-08-16T07:50:21.101069Z",
     "iopub.status.idle": "2023-08-16T07:50:21.154864Z",
     "shell.execute_reply": "2023-08-16T07:50:21.153837Z"
    },
    "jupyter": {
     "outputs_hidden": false
    },
    "papermill": {
     "duration": 0.137632,
     "end_time": "2023-08-16T07:50:21.157447",
     "exception": false,
     "start_time": "2023-08-16T07:50:21.019815",
     "status": "completed"
    },
    "tags": []
   },
   "outputs": [],
   "source": [
    "train_val_df = labels_df[labels_df['Patient_ID'].isin(train_val_df_patients)]"
   ]
  },
  {
   "cell_type": "code",
   "execution_count": 10,
   "id": "bdc2aa33",
   "metadata": {
    "_cell_guid": "47af73dc-5657-479e-9a12-cf79a4f16807",
    "_uuid": "ce4122ec-3f90-4da8-ae78-6fb3ed4921c7",
    "collapsed": false,
    "execution": {
     "iopub.execute_input": "2023-08-16T07:50:21.313062Z",
     "iopub.status.busy": "2023-08-16T07:50:21.312708Z",
     "iopub.status.idle": "2023-08-16T07:50:21.335820Z",
     "shell.execute_reply": "2023-08-16T07:50:21.334933Z"
    },
    "jupyter": {
     "outputs_hidden": false
    },
    "papermill": {
     "duration": 0.10302,
     "end_time": "2023-08-16T07:50:21.337876",
     "exception": false,
     "start_time": "2023-08-16T07:50:21.234856",
     "status": "completed"
    },
    "tags": []
   },
   "outputs": [
    {
     "data": {
      "text/html": [
       "<div>\n",
       "<style scoped>\n",
       "    .dataframe tbody tr th:only-of-type {\n",
       "        vertical-align: middle;\n",
       "    }\n",
       "\n",
       "    .dataframe tbody tr th {\n",
       "        vertical-align: top;\n",
       "    }\n",
       "\n",
       "    .dataframe thead th {\n",
       "        text-align: right;\n",
       "    }\n",
       "</style>\n",
       "<table border=\"1\" class=\"dataframe\">\n",
       "  <thead>\n",
       "    <tr style=\"text-align: right;\">\n",
       "      <th></th>\n",
       "      <th>Image_Index</th>\n",
       "      <th>Finding_Labels</th>\n",
       "      <th>Follow_Up_#</th>\n",
       "      <th>Patient_ID</th>\n",
       "      <th>Patient_Age</th>\n",
       "      <th>Patient_Gender</th>\n",
       "      <th>View_Position</th>\n",
       "      <th>Original_Image_Width</th>\n",
       "      <th>Original_Image_Height</th>\n",
       "      <th>Original_Image_Pixel_Spacing_X</th>\n",
       "      <th>...</th>\n",
       "      <th>Emphysema</th>\n",
       "      <th>Fibrosis</th>\n",
       "      <th>Effusion</th>\n",
       "      <th>Pneumonia</th>\n",
       "      <th>Pleural_Thickening</th>\n",
       "      <th>Cardiomegaly</th>\n",
       "      <th>Nodule</th>\n",
       "      <th>Mass</th>\n",
       "      <th>Hernia</th>\n",
       "      <th>Paths</th>\n",
       "    </tr>\n",
       "  </thead>\n",
       "  <tbody>\n",
       "    <tr>\n",
       "      <th>0</th>\n",
       "      <td>00000001_000.png</td>\n",
       "      <td>[Cardiomegaly]</td>\n",
       "      <td>0</td>\n",
       "      <td>1</td>\n",
       "      <td>58</td>\n",
       "      <td>M</td>\n",
       "      <td>PA</td>\n",
       "      <td>2682</td>\n",
       "      <td>2749</td>\n",
       "      <td>0.143</td>\n",
       "      <td>...</td>\n",
       "      <td>0</td>\n",
       "      <td>0</td>\n",
       "      <td>0</td>\n",
       "      <td>0</td>\n",
       "      <td>0</td>\n",
       "      <td>1</td>\n",
       "      <td>0</td>\n",
       "      <td>0</td>\n",
       "      <td>0</td>\n",
       "      <td>/kaggle/input/data/images_001/images/00000001_000.png</td>\n",
       "    </tr>\n",
       "    <tr>\n",
       "      <th>1</th>\n",
       "      <td>00000001_001.png</td>\n",
       "      <td>[Cardiomegaly, Emphysema]</td>\n",
       "      <td>1</td>\n",
       "      <td>1</td>\n",
       "      <td>58</td>\n",
       "      <td>M</td>\n",
       "      <td>PA</td>\n",
       "      <td>2894</td>\n",
       "      <td>2729</td>\n",
       "      <td>0.143</td>\n",
       "      <td>...</td>\n",
       "      <td>1</td>\n",
       "      <td>0</td>\n",
       "      <td>0</td>\n",
       "      <td>0</td>\n",
       "      <td>0</td>\n",
       "      <td>1</td>\n",
       "      <td>0</td>\n",
       "      <td>0</td>\n",
       "      <td>0</td>\n",
       "      <td>/kaggle/input/data/images_001/images/00000001_001.png</td>\n",
       "    </tr>\n",
       "    <tr>\n",
       "      <th>2</th>\n",
       "      <td>00000001_002.png</td>\n",
       "      <td>[Cardiomegaly, Effusion]</td>\n",
       "      <td>2</td>\n",
       "      <td>1</td>\n",
       "      <td>58</td>\n",
       "      <td>M</td>\n",
       "      <td>PA</td>\n",
       "      <td>2500</td>\n",
       "      <td>2048</td>\n",
       "      <td>0.168</td>\n",
       "      <td>...</td>\n",
       "      <td>0</td>\n",
       "      <td>0</td>\n",
       "      <td>1</td>\n",
       "      <td>0</td>\n",
       "      <td>0</td>\n",
       "      <td>1</td>\n",
       "      <td>0</td>\n",
       "      <td>0</td>\n",
       "      <td>0</td>\n",
       "      <td>/kaggle/input/data/images_001/images/00000001_002.png</td>\n",
       "    </tr>\n",
       "    <tr>\n",
       "      <th>4</th>\n",
       "      <td>00000003_000.png</td>\n",
       "      <td>[Hernia]</td>\n",
       "      <td>0</td>\n",
       "      <td>3</td>\n",
       "      <td>81</td>\n",
       "      <td>F</td>\n",
       "      <td>PA</td>\n",
       "      <td>2582</td>\n",
       "      <td>2991</td>\n",
       "      <td>0.143</td>\n",
       "      <td>...</td>\n",
       "      <td>0</td>\n",
       "      <td>0</td>\n",
       "      <td>0</td>\n",
       "      <td>0</td>\n",
       "      <td>0</td>\n",
       "      <td>0</td>\n",
       "      <td>0</td>\n",
       "      <td>0</td>\n",
       "      <td>1</td>\n",
       "      <td>/kaggle/input/data/images_001/images/00000003_000.png</td>\n",
       "    </tr>\n",
       "    <tr>\n",
       "      <th>5</th>\n",
       "      <td>00000003_001.png</td>\n",
       "      <td>[Hernia]</td>\n",
       "      <td>1</td>\n",
       "      <td>3</td>\n",
       "      <td>74</td>\n",
       "      <td>F</td>\n",
       "      <td>PA</td>\n",
       "      <td>2500</td>\n",
       "      <td>2048</td>\n",
       "      <td>0.168</td>\n",
       "      <td>...</td>\n",
       "      <td>0</td>\n",
       "      <td>0</td>\n",
       "      <td>0</td>\n",
       "      <td>0</td>\n",
       "      <td>0</td>\n",
       "      <td>0</td>\n",
       "      <td>0</td>\n",
       "      <td>0</td>\n",
       "      <td>1</td>\n",
       "      <td>/kaggle/input/data/images_001/images/00000003_001.png</td>\n",
       "    </tr>\n",
       "  </tbody>\n",
       "</table>\n",
       "<p>5 rows × 27 columns</p>\n",
       "</div>"
      ],
      "text/plain": [
       "        Image_Index             Finding_Labels  Follow_Up_#  Patient_ID  \\\n",
       "0  00000001_000.png             [Cardiomegaly]            0           1   \n",
       "1  00000001_001.png  [Cardiomegaly, Emphysema]            1           1   \n",
       "2  00000001_002.png   [Cardiomegaly, Effusion]            2           1   \n",
       "4  00000003_000.png                   [Hernia]            0           3   \n",
       "5  00000003_001.png                   [Hernia]            1           3   \n",
       "\n",
       "   Patient_Age Patient_Gender View_Position  Original_Image_Width  \\\n",
       "0           58              M            PA                  2682   \n",
       "1           58              M            PA                  2894   \n",
       "2           58              M            PA                  2500   \n",
       "4           81              F            PA                  2582   \n",
       "5           74              F            PA                  2500   \n",
       "\n",
       "   Original_Image_Height  Original_Image_Pixel_Spacing_X  ...  Emphysema  \\\n",
       "0                   2749                           0.143  ...          0   \n",
       "1                   2729                           0.143  ...          1   \n",
       "2                   2048                           0.168  ...          0   \n",
       "4                   2991                           0.143  ...          0   \n",
       "5                   2048                           0.168  ...          0   \n",
       "\n",
       "   Fibrosis  Effusion  Pneumonia  Pleural_Thickening  Cardiomegaly  Nodule  \\\n",
       "0         0         0          0                   0             1       0   \n",
       "1         0         0          0                   0             1       0   \n",
       "2         0         1          0                   0             1       0   \n",
       "4         0         0          0                   0             0       0   \n",
       "5         0         0          0                   0             0       0   \n",
       "\n",
       "   Mass  Hernia                                                  Paths  \n",
       "0     0       0  /kaggle/input/data/images_001/images/00000001_000.png  \n",
       "1     0       0  /kaggle/input/data/images_001/images/00000001_001.png  \n",
       "2     0       0  /kaggle/input/data/images_001/images/00000001_002.png  \n",
       "4     0       1  /kaggle/input/data/images_001/images/00000003_000.png  \n",
       "5     0       1  /kaggle/input/data/images_001/images/00000003_001.png  \n",
       "\n",
       "[5 rows x 27 columns]"
      ]
     },
     "execution_count": 10,
     "metadata": {},
     "output_type": "execute_result"
    }
   ],
   "source": [
    "train_val_df.head()"
   ]
  },
  {
   "cell_type": "code",
   "execution_count": 11,
   "id": "f2d08819",
   "metadata": {
    "_cell_guid": "1f8001a9-76cc-47ad-82af-9402d77c6173",
    "_uuid": "d01adf34-18c5-49af-b3b5-338879c7cb31",
    "collapsed": false,
    "execution": {
     "iopub.execute_input": "2023-08-16T07:50:21.498250Z",
     "iopub.status.busy": "2023-08-16T07:50:21.497716Z",
     "iopub.status.idle": "2023-08-16T07:50:21.503775Z",
     "shell.execute_reply": "2023-08-16T07:50:21.502693Z"
    },
    "jupyter": {
     "outputs_hidden": false
    },
    "papermill": {
     "duration": 0.08721,
     "end_time": "2023-08-16T07:50:21.505767",
     "exception": false,
     "start_time": "2023-08-16T07:50:21.418557",
     "status": "completed"
    },
    "tags": []
   },
   "outputs": [
    {
     "name": "stdout",
     "output_type": "stream",
     "text": [
      "train_val size 89764\n",
      "test size 22356\n"
     ]
    }
   ],
   "source": [
    "labels_df.shape\n",
    "print('train_val size', train_val_df.shape[0])\n",
    "print('test size', labels_df.shape[0] - train_val_df.shape[0])"
   ]
  },
  {
   "cell_type": "code",
   "execution_count": 12,
   "id": "79e7fe63",
   "metadata": {
    "_cell_guid": "a56c961f-a443-4ae9-8f9a-a52be3e90b99",
    "_uuid": "db273220-b8dd-4b32-b257-3e4f2a5f8cfa",
    "collapsed": false,
    "execution": {
     "iopub.execute_input": "2023-08-16T07:50:21.663227Z",
     "iopub.status.busy": "2023-08-16T07:50:21.662365Z",
     "iopub.status.idle": "2023-08-16T07:50:24.838100Z",
     "shell.execute_reply": "2023-08-16T07:50:24.837055Z"
    },
    "jupyter": {
     "outputs_hidden": false
    },
    "papermill": {
     "duration": 3.258046,
     "end_time": "2023-08-16T07:50:24.840670",
     "exception": false,
     "start_time": "2023-08-16T07:50:21.582624",
     "status": "completed"
    },
    "tags": []
   },
   "outputs": [],
   "source": [
    "item_transforms = [\n",
    "    Resize((224, 224)),\n",
    "]\n",
    "\n",
    "batch_transforms = [\n",
    "    Flip(),\n",
    "    Rotate(),\n",
    "    Normalize.from_stats(*imagenet_stats),\n",
    "]\n",
    "\n",
    "\n",
    "def get_x(row):\n",
    "    return row['Paths']\n",
    "\n",
    "def get_y(row):\n",
    "    labels = row[disease_labels].tolist()\n",
    "    return labels\n",
    "\n",
    "dblock = DataBlock(\n",
    "    blocks=(ImageBlock, MultiCategoryBlock(encoded=True,vocab=disease_labels)),\n",
    "                   splitter=RandomSplitter(valid_pct=0.125, seed=SEED),\n",
    "                   get_x=get_x,\n",
    "                   get_y=get_y,\n",
    "                   item_tfms=item_transforms,\n",
    "                   batch_tfms=batch_transforms\n",
    "                  )\n",
    "dls = dblock.dataloaders(train_val_df, bs=32)\n",
    "# print(dblock.datasets(train_val_merge).train)"
   ]
  },
  {
   "cell_type": "code",
   "execution_count": 13,
   "id": "b0258a65",
   "metadata": {
    "_cell_guid": "f0d356db-5bae-42d6-8058-836d0741f640",
    "_uuid": "34c26c3d-07b7-4968-8b7d-df7e4df04087",
    "collapsed": false,
    "execution": {
     "iopub.execute_input": "2023-08-16T07:50:24.996448Z",
     "iopub.status.busy": "2023-08-16T07:50:24.995441Z",
     "iopub.status.idle": "2023-08-16T07:50:25.630168Z",
     "shell.execute_reply": "2023-08-16T07:50:25.629161Z"
    },
    "jupyter": {
     "outputs_hidden": false
    },
    "papermill": {
     "duration": 0.714685,
     "end_time": "2023-08-16T07:50:25.632605",
     "exception": false,
     "start_time": "2023-08-16T07:50:24.917920",
     "status": "completed"
    },
    "tags": []
   },
   "outputs": [
    {
     "name": "stderr",
     "output_type": "stream",
     "text": [
      "/opt/conda/lib/python3.10/site-packages/torchvision/models/_utils.py:208: UserWarning: The parameter 'pretrained' is deprecated since 0.13 and may be removed in the future, please use 'weights' instead.\n",
      "  warnings.warn(\n",
      "/opt/conda/lib/python3.10/site-packages/torchvision/models/_utils.py:223: UserWarning: Arguments other than a weight enum or `None` for 'weights' are deprecated since 0.13 and may be removed in the future. The current behavior is equivalent to passing `weights=DenseNet121_Weights.IMAGENET1K_V1`. You can also use `weights=DenseNet121_Weights.DEFAULT` to get the most up-to-date weights.\n",
      "  warnings.warn(msg)\n",
      "Downloading: \"https://download.pytorch.org/models/densenet121-a639ec97.pth\" to /root/.cache/torch/hub/checkpoints/densenet121-a639ec97.pth\n",
      "100%|██████████| 30.8M/30.8M [00:00<00:00, 168MB/s] \n"
     ]
    }
   ],
   "source": [
    "from fastai.vision.all import *\n",
    "\n",
    "cbs=[\n",
    "    SaveModelCallback(monitor='valid_loss', min_delta=0.0001, with_opt=True),\n",
    "    EarlyStoppingCallback(monitor='valid_loss', min_delta=0.001, patience=5),\n",
    "    ShowGraphCallback()\n",
    "    ]\n",
    "\n",
    "learn = vision_learner(dls, models.densenet121, metrics=[accuracy_multi, F1ScoreMulti(), RocAucMulti()],cbs=cbs, wd=0.001)\n",
    "\n",
    "learn.model = torch.nn.DataParallel(learn.model)"
   ]
  },
  {
   "cell_type": "code",
   "execution_count": 14,
   "id": "f55f97ed",
   "metadata": {
    "_cell_guid": "26650f8e-2d78-4de6-b739-3f26ed1b84c9",
    "_uuid": "30a79388-5c62-494d-bfe2-3ecbb65c5c39",
    "collapsed": false,
    "execution": {
     "iopub.execute_input": "2023-08-16T07:50:25.803460Z",
     "iopub.status.busy": "2023-08-16T07:50:25.802508Z",
     "iopub.status.idle": "2023-08-16T07:52:04.679835Z",
     "shell.execute_reply": "2023-08-16T07:52:04.678607Z"
    },
    "jupyter": {
     "outputs_hidden": false
    },
    "papermill": {
     "duration": 98.960977,
     "end_time": "2023-08-16T07:52:04.682349",
     "exception": false,
     "start_time": "2023-08-16T07:50:25.721372",
     "status": "completed"
    },
    "tags": []
   },
   "outputs": [
    {
     "data": {
      "text/html": [
       "\n",
       "<style>\n",
       "    /* Turns off some styling */\n",
       "    progress {\n",
       "        /* gets rid of default border in Firefox and Opera. */\n",
       "        border: none;\n",
       "        /* Needs to be in here for Safari polyfill so background images work as expected. */\n",
       "        background-size: auto;\n",
       "    }\n",
       "    progress:not([value]), progress:not([value])::-webkit-progress-bar {\n",
       "        background: repeating-linear-gradient(45deg, #7e7e7e, #7e7e7e 10px, #5c5c5c 10px, #5c5c5c 20px);\n",
       "    }\n",
       "    .progress-bar-interrupted, .progress-bar-interrupted::-webkit-progress-bar {\n",
       "        background: #F44336;\n",
       "    }\n",
       "</style>\n"
      ],
      "text/plain": [
       "<IPython.core.display.HTML object>"
      ]
     },
     "metadata": {},
     "output_type": "display_data"
    },
    {
     "data": {
      "text/html": [],
      "text/plain": [
       "<IPython.core.display.HTML object>"
      ]
     },
     "metadata": {},
     "output_type": "display_data"
    },
    {
     "name": "stdout",
     "output_type": "stream",
     "text": [
      "intial learning rate= 0.005248074419796467\n"
     ]
    },
    {
     "data": {
      "image/png": "[encoded data removed]",
      "text/plain": [
       "<Figure size 640x480 with 1 Axes>"
      ]
     },
     "metadata": {},
     "output_type": "display_data"
    }
   ],
   "source": [
    "lrs = learn.lr_find(suggest_funcs=(minimum, steep, valley, slide))\n",
    "print('intial learning rate=', lrs.valley)"
   ]
  },
  {
   "cell_type": "code",
   "execution_count": 15,
   "id": "e56e3e98",
   "metadata": {
    "_cell_guid": "acbf3c2b-5373-4e90-9dc8-ccd94c68ee70",
    "_uuid": "a73be5d6-6cb3-45c0-915c-265c743c8c86",
    "collapsed": false,
    "execution": {
     "iopub.execute_input": "2023-08-16T07:52:04.841453Z",
     "iopub.status.busy": "2023-08-16T07:52:04.840217Z",
     "iopub.status.idle": "2023-08-16T19:14:41.963890Z",
     "shell.execute_reply": "2023-08-16T19:14:41.962758Z"
    },
    "jupyter": {
     "outputs_hidden": false
    },
    "papermill": {
     "duration": 40957.208259,
     "end_time": "2023-08-16T19:14:41.970012",
     "exception": false,
     "start_time": "2023-08-16T07:52:04.761753",
     "status": "completed"
    },
    "tags": []
   },
   "outputs": [
    {
     "data": {
      "text/html": [
       "\n",
       "<style>\n",
       "    /* Turns off some styling */\n",
       "    progress {\n",
       "        /* gets rid of default border in Firefox and Opera. */\n",
       "        border: none;\n",
       "        /* Needs to be in here for Safari polyfill so background images work as expected. */\n",
       "        background-size: auto;\n",
       "    }\n",
       "    progress:not([value]), progress:not([value])::-webkit-progress-bar {\n",
       "        background: repeating-linear-gradient(45deg, #7e7e7e, #7e7e7e 10px, #5c5c5c 10px, #5c5c5c 20px);\n",
       "    }\n",
       "    .progress-bar-interrupted, .progress-bar-interrupted::-webkit-progress-bar {\n",
       "        background: #F44336;\n",
       "    }\n",
       "</style>\n"
      ],
      "text/plain": [
       "<IPython.core.display.HTML object>"
      ]
     },
     "metadata": {},
     "output_type": "display_data"
    },
    {
     "data": {
      "text/html": [
       "<table border=\"1\" class=\"dataframe\">\n",
       "  <thead>\n",
       "    <tr style=\"text-align: left;\">\n",
       "      <th>epoch</th>\n",
       "      <th>train_loss</th>\n",
       "      <th>valid_loss</th>\n",
       "      <th>accuracy_multi</th>\n",
       "      <th>f1_score</th>\n",
       "      <th>roc_auc_score</th>\n",
       "      <th>time</th>\n",
       "    </tr>\n",
       "  </thead>\n",
       "  <tbody>\n",
       "    <tr>\n",
       "      <td>0</td>\n",
       "      <td>0.177825</td>\n",
       "      <td>0.165313</td>\n",
       "      <td>0.948861</td>\n",
       "      <td>0.022300</td>\n",
       "      <td>0.742319</td>\n",
       "      <td>45:21</td>\n",
       "    </tr>\n",
       "    <tr>\n",
       "      <td>1</td>\n",
       "      <td>0.169609</td>\n",
       "      <td>0.159106</td>\n",
       "      <td>0.948447</td>\n",
       "      <td>0.077309</td>\n",
       "      <td>0.783558</td>\n",
       "      <td>44:47</td>\n",
       "    </tr>\n",
       "    <tr>\n",
       "      <td>2</td>\n",
       "      <td>0.160587</td>\n",
       "      <td>0.151604</td>\n",
       "      <td>0.949631</td>\n",
       "      <td>0.094191</td>\n",
       "      <td>0.805161</td>\n",
       "      <td>44:43</td>\n",
       "    </tr>\n",
       "  </tbody>\n",
       "</table>"
      ],
      "text/plain": [
       "<IPython.core.display.HTML object>"
      ]
     },
     "metadata": {},
     "output_type": "display_data"
    },
    {
     "name": "stdout",
     "output_type": "stream",
     "text": [
      "Better model found at epoch 0 with valid_loss value: 0.1653134673833847.\n"
     ]
    },
    {
     "data": {
      "image/png": "[encoded data removed]",
      "text/plain": [
       "<Figure size 600x400 with 1 Axes>"
      ]
     },
     "metadata": {},
     "output_type": "display_data"
    },
    {
     "name": "stdout",
     "output_type": "stream",
     "text": [
      "Better model found at epoch 1 with valid_loss value: 0.1591060906648636.\n",
      "Better model found at epoch 2 with valid_loss value: 0.1516038179397583.\n"
     ]
    },
    {
     "data": {
      "text/html": [
       "\n",
       "<style>\n",
       "    /* Turns off some styling */\n",
       "    progress {\n",
       "        /* gets rid of default border in Firefox and Opera. */\n",
       "        border: none;\n",
       "        /* Needs to be in here for Safari polyfill so background images work as expected. */\n",
       "        background-size: auto;\n",
       "    }\n",
       "    progress:not([value]), progress:not([value])::-webkit-progress-bar {\n",
       "        background: repeating-linear-gradient(45deg, #7e7e7e, #7e7e7e 10px, #5c5c5c 10px, #5c5c5c 20px);\n",
       "    }\n",
       "    .progress-bar-interrupted, .progress-bar-interrupted::-webkit-progress-bar {\n",
       "        background: #F44336;\n",
       "    }\n",
       "</style>\n"
      ],
      "text/plain": [
       "<IPython.core.display.HTML object>"
      ]
     },
     "metadata": {},
     "output_type": "display_data"
    },
    {
     "data": {
      "text/html": [
       "<table border=\"1\" class=\"dataframe\">\n",
       "  <thead>\n",
       "    <tr style=\"text-align: left;\">\n",
       "      <th>epoch</th>\n",
       "      <th>train_loss</th>\n",
       "      <th>valid_loss</th>\n",
       "      <th>accuracy_multi</th>\n",
       "      <th>f1_score</th>\n",
       "      <th>roc_auc_score</th>\n",
       "      <th>time</th>\n",
       "    </tr>\n",
       "  </thead>\n",
       "  <tbody>\n",
       "    <tr>\n",
       "      <td>0</td>\n",
       "      <td>0.152417</td>\n",
       "      <td>0.149126</td>\n",
       "      <td>0.949924</td>\n",
       "      <td>0.111033</td>\n",
       "      <td>0.815308</td>\n",
       "      <td>46:07</td>\n",
       "    </tr>\n",
       "    <tr>\n",
       "      <td>1</td>\n",
       "      <td>0.156303</td>\n",
       "      <td>0.148548</td>\n",
       "      <td>0.949536</td>\n",
       "      <td>0.133703</td>\n",
       "      <td>0.818678</td>\n",
       "      <td>45:17</td>\n",
       "    </tr>\n",
       "    <tr>\n",
       "      <td>2</td>\n",
       "      <td>0.152020</td>\n",
       "      <td>0.147924</td>\n",
       "      <td>0.950134</td>\n",
       "      <td>0.105077</td>\n",
       "      <td>0.821391</td>\n",
       "      <td>45:18</td>\n",
       "    </tr>\n",
       "    <tr>\n",
       "      <td>3</td>\n",
       "      <td>0.147892</td>\n",
       "      <td>0.610503</td>\n",
       "      <td>0.944296</td>\n",
       "      <td>0.128397</td>\n",
       "      <td>0.824877</td>\n",
       "      <td>45:10</td>\n",
       "    </tr>\n",
       "    <tr>\n",
       "      <td>4</td>\n",
       "      <td>0.148001</td>\n",
       "      <td>0.146228</td>\n",
       "      <td>0.950408</td>\n",
       "      <td>0.172414</td>\n",
       "      <td>0.830499</td>\n",
       "      <td>45:58</td>\n",
       "    </tr>\n",
       "    <tr>\n",
       "      <td>5</td>\n",
       "      <td>0.154314</td>\n",
       "      <td>0.146269</td>\n",
       "      <td>0.950541</td>\n",
       "      <td>0.146273</td>\n",
       "      <td>0.827869</td>\n",
       "      <td>46:22</td>\n",
       "    </tr>\n",
       "    <tr>\n",
       "      <td>6</td>\n",
       "      <td>0.150224</td>\n",
       "      <td>0.144976</td>\n",
       "      <td>0.950338</td>\n",
       "      <td>0.179300</td>\n",
       "      <td>0.833729</td>\n",
       "      <td>45:30</td>\n",
       "    </tr>\n",
       "    <tr>\n",
       "      <td>7</td>\n",
       "      <td>0.149138</td>\n",
       "      <td>0.144979</td>\n",
       "      <td>0.950439</td>\n",
       "      <td>0.141032</td>\n",
       "      <td>0.835304</td>\n",
       "      <td>45:36</td>\n",
       "    </tr>\n",
       "    <tr>\n",
       "      <td>8</td>\n",
       "      <td>0.145389</td>\n",
       "      <td>0.145656</td>\n",
       "      <td>0.950452</td>\n",
       "      <td>0.158915</td>\n",
       "      <td>0.838594</td>\n",
       "      <td>45:17</td>\n",
       "    </tr>\n",
       "    <tr>\n",
       "      <td>9</td>\n",
       "      <td>0.137768</td>\n",
       "      <td>0.193271</td>\n",
       "      <td>0.947728</td>\n",
       "      <td>0.121271</td>\n",
       "      <td>0.820520</td>\n",
       "      <td>46:14</td>\n",
       "    </tr>\n",
       "    <tr>\n",
       "      <td>10</td>\n",
       "      <td>0.134017</td>\n",
       "      <td>0.160021</td>\n",
       "      <td>0.949319</td>\n",
       "      <td>0.148364</td>\n",
       "      <td>0.834108</td>\n",
       "      <td>45:13</td>\n",
       "    </tr>\n",
       "    <tr>\n",
       "      <td>11</td>\n",
       "      <td>0.134035</td>\n",
       "      <td>0.150572</td>\n",
       "      <td>0.950796</td>\n",
       "      <td>0.170572</td>\n",
       "      <td>0.830263</td>\n",
       "      <td>45:18</td>\n",
       "    </tr>\n",
       "  </tbody>\n",
       "</table>"
      ],
      "text/plain": [
       "<IPython.core.display.HTML object>"
      ]
     },
     "metadata": {},
     "output_type": "display_data"
    },
    {
     "name": "stdout",
     "output_type": "stream",
     "text": [
      "Better model found at epoch 0 with valid_loss value: 0.14912553131580353.\n"
     ]
    },
    {
     "data": {
      "image/png": "[encoded data removed]",
      "text/plain": [
       "<Figure size 600x400 with 1 Axes>"
      ]
     },
     "metadata": {},
     "output_type": "display_data"
    },
    {
     "name": "stdout",
     "output_type": "stream",
     "text": [
      "Better model found at epoch 1 with valid_loss value: 0.1485479176044464.\n",
      "Better model found at epoch 2 with valid_loss value: 0.1479242891073227.\n",
      "Better model found at epoch 4 with valid_loss value: 0.14622832834720612.\n",
      "Better model found at epoch 6 with valid_loss value: 0.14497633278369904.\n",
      "No improvement since epoch 6: early stopping\n"
     ]
    }
   ],
   "source": [
    "learn.fine_tune(freeze_epochs=3,epochs=20, base_lr=lrs.valley)"
   ]
  },
  {
   "cell_type": "code",
   "execution_count": 16,
   "id": "b7507df5",
   "metadata": {
    "_cell_guid": "6cf3994e-b519-4c62-aa13-d8800163f2c5",
    "_uuid": "68eeb659-73b8-47d5-8383-c6b366514a2f",
    "collapsed": false,
    "execution": {
     "iopub.execute_input": "2023-08-16T19:14:42.134411Z",
     "iopub.status.busy": "2023-08-16T19:14:42.134056Z",
     "iopub.status.idle": "2023-08-16T19:14:42.413298Z",
     "shell.execute_reply": "2023-08-16T19:14:42.412090Z"
    },
    "jupyter": {
     "outputs_hidden": false
    },
    "papermill": {
     "duration": 0.364367,
     "end_time": "2023-08-16T19:14:42.415930",
     "exception": false,
     "start_time": "2023-08-16T19:14:42.051563",
     "status": "completed"
    },
    "tags": []
   },
   "outputs": [
    {
     "data": {
      "text/plain": [
       "Path('models/densenet121-70-10-20-split-NF.pth')"
      ]
     },
     "execution_count": 16,
     "metadata": {},
     "output_type": "execute_result"
    }
   ],
   "source": [
    "learn.save('densenet121-70-10-20-split-NF')"
   ]
  },
  {
   "cell_type": "code",
   "execution_count": null,
   "id": "df853077",
   "metadata": {
    "papermill": {
     "duration": 0.080497,
     "end_time": "2023-08-16T19:14:42.577034",
     "exception": false,
     "start_time": "2023-08-16T19:14:42.496537",
     "status": "completed"
    },
    "tags": []
   },
   "outputs": [],
   "source": []
  }
 ],
 "metadata": {
  "kernelspec": {
   "display_name": "Python 3",
   "language": "python",
   "name": "python3"
  },
  "language_info": {
   "codemirror_mode": {
    "name": "ipython",
    "version": 3
   },
   "file_extension": ".py",
   "mimetype": "text/x-python",
   "name": "python",
   "nbconvert_exporter": "python",
   "pygments_lexer": "ipython3",
   "version": "3.10.12"
  },
  "papermill": {
   "default_parameters": {},
   "duration": 41306.927808,
   "end_time": "2023-08-16T19:14:46.487658",
   "environment_variables": {},
   "exception": null,
   "input_path": "__notebook__.ipynb",
   "output_path": "__notebook__.ipynb",
   "parameters": {},
   "start_time": "2023-08-16T07:46:19.559850",
   "version": "2.4.0"
  }
 },
 "nbformat": 4,
 "nbformat_minor": 5
}
